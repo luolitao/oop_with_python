{
 "cells": [
  {
   "cell_type": "markdown",
   "metadata": {
    "ExecuteTime": {
     "end_time": "2022-05-19T08:45:49.429125Z",
     "start_time": "2022-05-19T08:45:49.413169Z"
    }
   },
   "source": [
    "# 06-class-attributes-1.py\n",
    "\n",
    " Here we define an attribute under the class `YourClass`\n",
    " as well as an attribute within the function.\n",
    "\n",
    " The attribute defined in the class is called `class attributes`\n",
    " and the attribute defined in the function is called `instance attributes`.\n",
    "\n",
    "\n"
   ]
  },
  {
   "cell_type": "code",
   "execution_count": 10,
   "metadata": {
    "ExecuteTime": {
     "end_time": "2022-05-19T10:07:51.544949Z",
     "start_time": "2022-05-19T10:07:51.533994Z"
    }
   },
   "outputs": [],
   "source": [
    "class YourClass(object):\n",
    "    classy = 10\n",
    "\n",
    "    def set_val(self):\n",
    "        self.insty = 100"
   ]
  },
  {
   "cell_type": "code",
   "execution_count": 12,
   "metadata": {
    "ExecuteTime": {
     "end_time": "2022-05-19T10:08:02.845707Z",
     "start_time": "2022-05-19T10:08:02.839723Z"
    }
   },
   "outputs": [
    {
     "data": {
      "text/plain": [
       "10"
      ]
     },
     "execution_count": 12,
     "metadata": {},
     "output_type": "execute_result"
    }
   ],
   "source": [
    "dd = YourClass()\n",
    "dd.classy  # This will fetch the class attribute 10."
   ]
  },
  {
   "cell_type": "code",
   "execution_count": 13,
   "metadata": {
    "ExecuteTime": {
     "end_time": "2022-05-19T10:08:03.703690Z",
     "start_time": "2022-05-19T10:08:03.699058Z"
    }
   },
   "outputs": [
    {
     "data": {
      "text/plain": [
       "100"
      ]
     },
     "execution_count": 13,
     "metadata": {},
     "output_type": "execute_result"
    }
   ],
   "source": [
    "dd.set_val()\n",
    "dd.insty  # This will fetch the instance attribute 100."
   ]
  },
  {
   "cell_type": "markdown",
   "metadata": {
    "ExecuteTime": {
     "end_time": "2022-05-19T10:05:37.639800Z",
     "start_time": "2022-05-19T10:05:37.625836Z"
    }
   },
   "source": [
    " Once `dd` is instantiated, we can access both the class and instance\n",
    " attributes, ie.. dd.classy and dd.insty."
   ]
  },
  {
   "cell_type": "markdown",
   "metadata": {
    "ExecuteTime": {
     "end_time": "2022-05-19T08:47:09.012311Z",
     "start_time": "2022-05-19T08:47:09.008322Z"
    }
   },
   "source": [
    "# 07-class-attributes-2.py\n",
    " The code below shows two important points:\n",
    "\n",
    " a) A class attribute can be overridden in an instance, even\n",
    " though it is bad due to breaking Encapsulation.\n",
    "\n",
    " b) There is a lookup path for attributes in Python. The first being\n",
    " the method defined within the class, and then the class above it.\n",
    "\n",
    " We are overriding the 'classy' class attribute in the instance 'dd'.\n",
    " When it's overridden, the python interpreter reads the overridden value.\n",
    " But once the new value is deleted with 'del', the overridden value is no longer\n",
    " present in the instance, and hence the lookup goes a level above and gets it from\n",
    " the class.\n",
    "\n",
    "\n"
   ]
  },
  {
   "cell_type": "code",
   "execution_count": 14,
   "metadata": {
    "ExecuteTime": {
     "end_time": "2022-05-19T10:08:18.199113Z",
     "start_time": "2022-05-19T10:08:18.191134Z"
    }
   },
   "outputs": [],
   "source": [
    "class YourClass(object):\n",
    "    classy = \"class value\""
   ]
  },
  {
   "cell_type": "code",
   "execution_count": 15,
   "metadata": {
    "ExecuteTime": {
     "end_time": "2022-05-19T10:08:18.810445Z",
     "start_time": "2022-05-19T10:08:18.794487Z"
    }
   },
   "outputs": [
    {
     "name": "stdout",
     "output_type": "stream",
     "text": [
      "class value\n"
     ]
    }
   ],
   "source": [
    "dd = YourClass()\n",
    "print(dd.classy)  # < This should return the string \"class value\""
   ]
  },
  {
   "cell_type": "code",
   "execution_count": 16,
   "metadata": {
    "ExecuteTime": {
     "end_time": "2022-05-19T10:08:19.515327Z",
     "start_time": "2022-05-19T10:08:19.508346Z"
    }
   },
   "outputs": [
    {
     "name": "stdout",
     "output_type": "stream",
     "text": [
      "Instance value\n"
     ]
    }
   ],
   "source": [
    "dd.classy = \"Instance value\"\n",
    "print(dd.classy)  # This should return the string \"Instance value\""
   ]
  },
  {
   "cell_type": "code",
   "execution_count": 17,
   "metadata": {
    "ExecuteTime": {
     "end_time": "2022-05-19T10:08:21.807133Z",
     "start_time": "2022-05-19T10:08:21.794245Z"
    }
   },
   "outputs": [
    {
     "name": "stdout",
     "output_type": "stream",
     "text": [
      "class value\n"
     ]
    }
   ],
   "source": [
    "# This will delete the value set for 'dd.classy' in the instance.\n",
    "del dd.classy\n",
    "# Since the overriding attribute was deleted, this will print 'class value'.\n",
    "print(dd.classy)"
   ]
  },
  {
   "cell_type": "markdown",
   "metadata": {
    "ExecuteTime": {
     "end_time": "2022-05-19T08:48:14.163037Z",
     "start_time": "2022-05-19T08:48:14.147113Z"
    }
   },
   "source": [
    "# 08-class-instance-attributes-1.py\n",
    "\n",
    " This code shows that an Instance can access it's own\n",
    " attributes as well as Class attributes.\n",
    "\n",
    " We have a class attribute named 'count', and we add 1 to\n",
    " it each time we create an instance. This can help count the\n",
    " number of instances at the time of instantiation."
   ]
  },
  {
   "cell_type": "code",
   "execution_count": 18,
   "metadata": {
    "ExecuteTime": {
     "end_time": "2022-05-19T10:08:25.945136Z",
     "start_time": "2022-05-19T10:08:25.926498Z"
    }
   },
   "outputs": [],
   "source": [
    "class InstanceCounter(object):\n",
    "    count = 0\n",
    "\n",
    "    def __init__(self, val):\n",
    "        self.val = val\n",
    "        InstanceCounter.count += 1\n",
    "\n",
    "    def set_val(self, newval):\n",
    "        self.val = newval\n",
    "\n",
    "    def get_val(self):\n",
    "        print(self.val)\n",
    "\n",
    "    def get_count(self):\n",
    "        print(InstanceCounter.count)"
   ]
  },
  {
   "cell_type": "code",
   "execution_count": 19,
   "metadata": {
    "ExecuteTime": {
     "end_time": "2022-05-19T10:08:26.513033Z",
     "start_time": "2022-05-19T10:08:26.507050Z"
    }
   },
   "outputs": [
    {
     "name": "stdout",
     "output_type": "stream",
     "text": [
      "5\n",
      "value of obj: None\n",
      "3\n",
      "Count : None\n",
      "10\n",
      "value of obj: None\n",
      "3\n",
      "Count : None\n",
      "15\n",
      "value of obj: None\n",
      "3\n",
      "Count : None\n"
     ]
    }
   ],
   "source": [
    "a = InstanceCounter(5)\n",
    "b = InstanceCounter(10)\n",
    "c = InstanceCounter(15)\n",
    "for obj in (a, b, c):\n",
    "    print(\"value of obj: %s\" % obj.get_val())\n",
    "    print(\"Count : %s\" % obj.get_count())"
   ]
  },
  {
   "cell_type": "code",
   "execution_count": null,
   "metadata": {},
   "outputs": [],
   "source": []
  }
 ],
 "metadata": {
  "kernelspec": {
   "display_name": "Python 3 (ipykernel)",
   "language": "python",
   "name": "python3"
  },
  "language_info": {
   "codemirror_mode": {
    "name": "ipython",
    "version": 3
   },
   "file_extension": ".py",
   "mimetype": "text/x-python",
   "name": "python",
   "nbconvert_exporter": "python",
   "pygments_lexer": "ipython3",
   "version": "3.9.12"
  },
  "toc": {
   "base_numbering": 1,
   "nav_menu": {},
   "number_sections": true,
   "sideBar": true,
   "skip_h1_title": false,
   "title_cell": "Table of Contents",
   "title_sidebar": "Contents",
   "toc_cell": false,
   "toc_position": {},
   "toc_section_display": true,
   "toc_window_display": true
  }
 },
 "nbformat": 4,
 "nbformat_minor": 2
}
