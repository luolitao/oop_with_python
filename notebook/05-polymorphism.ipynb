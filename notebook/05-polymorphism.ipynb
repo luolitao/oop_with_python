{
 "cells": [
  {
   "cell_type": "markdown",
   "id": "b7d03023",
   "metadata": {},
   "source": [
    "# 11-polymorphism-1.py\n",
    "\n",
    " Polymorphism means having the same interface/attributes in different\n",
    " classes.\n",
    "\n",
    " Polymorphism is the characteristic of being able to assign\n",
    " a different meaning or usage in different contexts.\n",
    " A not-so-clear/clean example is, different classes can have\n",
    " the same function name.\n",
    "\n",
    " Here, the class Dog and Cat has the same method named 'show_affection'\n",
    " Even if they are same, both does different actions in the instance.\n",
    "\n",
    " Since the order of the lookup is\n",
    " 'instance' -> 'class' -> 'parent class', even if the\n",
    " 'class' and 'parent class' has functions with the same name,\n",
    " the instance will only pick up the first hit,\n",
    " ie.. from the 'class' and won't go to the parent class."
   ]
  },
  {
   "cell_type": "code",
   "execution_count": 1,
   "id": "66e31d74",
   "metadata": {
    "ExecuteTime": {
     "end_time": "2022-05-19T10:12:29.949057Z",
     "start_time": "2022-05-19T10:12:29.928004Z"
    }
   },
   "outputs": [
    {
     "name": "stdout",
     "output_type": "stream",
     "text": [
      "Rover wags tail\n",
      "Fluffy purrs\n",
      "Lucky purrs\n",
      "Scout wags tail\n"
     ]
    }
   ],
   "source": [
    "class Animal(object):\n",
    "    def __init__(self, name):\n",
    "        self.name = name\n",
    "\n",
    "    def eat(self, food):\n",
    "        print(\"{0} eats {1}\".format(self.name, food))\n",
    "\n",
    "\n",
    "class Dog(Animal):\n",
    "    def fetch(self, thing):\n",
    "        print(\"{0} goes after the {1}!\".format(self.name, thing))\n",
    "\n",
    "    def show_affection(self):\n",
    "        print(\"{0} wags tail\".format(self.name))\n",
    "\n",
    "\n",
    "class Cat(Animal):\n",
    "    def swatstring(self):\n",
    "        print(\"{0} shreds more string\".format(self.name))\n",
    "\n",
    "    def show_affection(self):\n",
    "        print(\"{0} purrs\".format(self.name))\n",
    "\n",
    "\n",
    "for a in (Dog(\"Rover\"), Cat(\"Fluffy\"), Cat(\"Lucky\"), Dog(\"Scout\")):\n",
    "    a.show_affection()"
   ]
  },
  {
   "cell_type": "markdown",
   "id": "d556c207",
   "metadata": {},
   "source": [
    "# 12-polymorphism-2.py\n",
    "\n",
    " Another example for Polymorphism are the several inbuilt\n",
    " functions in Python. Take for example, the builtin function\n",
    " called 'len'.\n",
    "\n",
    " 'len' is available for almost all types, such as strings,\n",
    " ints, floats, dictionaries, lists, tuples etc..\n",
    " When len is called on a type, it actually calls the inbuilts\n",
    " private function 'len' on that type or __len__\n",
    "\n",
    " Every object type that supports 'len' will have a private\n",
    " 'len' function inbuilt.\n",
    "\n",
    " Hence, for example, a list type already has a 'len()'\n",
    " function inbuilt in the Python code, and when you run the\n",
    " len() function on the data type, it checks if the len\n",
    " private function is available for that type or not.\n",
    " If it is available, it runs that."
   ]
  },
  {
   "cell_type": "code",
   "execution_count": 2,
   "id": "5d38940a",
   "metadata": {
    "ExecuteTime": {
     "end_time": "2022-05-19T10:12:57.244860Z",
     "start_time": "2022-05-19T10:12:57.231923Z"
    }
   },
   "outputs": [
    {
     "name": "stdout",
     "output_type": "stream",
     "text": [
      "3\n"
     ]
    }
   ],
   "source": [
    "text = [\"Hello\", \"Hola\", \"helo\"]\n",
    "print(len(text))"
   ]
  },
  {
   "cell_type": "code",
   "execution_count": 3,
   "id": "78400a9a",
   "metadata": {
    "ExecuteTime": {
     "end_time": "2022-05-19T10:12:58.119344Z",
     "start_time": "2022-05-19T10:12:58.102365Z"
    }
   },
   "outputs": [
    {
     "name": "stdout",
     "output_type": "stream",
     "text": [
      "5\n",
      "3\n"
     ]
    }
   ],
   "source": [
    "print(len(\"Hello\"))\n",
    "print(len({\"a\": 1, \"b\": 2, \"c\": 3}))"
   ]
  },
  {
   "cell_type": "code",
   "execution_count": null,
   "id": "5122b0d6",
   "metadata": {},
   "outputs": [],
   "source": []
  }
 ],
 "metadata": {
  "kernelspec": {
   "display_name": "Python 3 (ipykernel)",
   "language": "python",
   "name": "python3"
  },
  "language_info": {
   "codemirror_mode": {
    "name": "ipython",
    "version": 3
   },
   "file_extension": ".py",
   "mimetype": "text/x-python",
   "name": "python",
   "nbconvert_exporter": "python",
   "pygments_lexer": "ipython3",
   "version": "3.9.12"
  },
  "toc": {
   "base_numbering": 1,
   "nav_menu": {},
   "number_sections": true,
   "sideBar": true,
   "skip_h1_title": false,
   "title_cell": "Table of Contents",
   "title_sidebar": "Contents",
   "toc_cell": false,
   "toc_position": {},
   "toc_section_display": true,
   "toc_window_display": false
  }
 },
 "nbformat": 4,
 "nbformat_minor": 5
}
