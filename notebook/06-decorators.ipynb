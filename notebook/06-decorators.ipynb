{
 "cells": [
  {
   "cell_type": "markdown",
   "metadata": {
    "ExecuteTime": {
     "end_time": "2022-05-19T08:44:12.036965Z",
     "start_time": "2022-05-19T08:44:12.020011Z"
    }
   },
   "source": [
    "# 19-decorators-1.py\n",
    " Decorators, as simple as it gets :)"
   ]
  },
  {
   "cell_type": "code",
   "execution_count": 1,
   "metadata": {
    "ExecuteTime": {
     "end_time": "2022-05-19T09:08:30.079100Z",
     "start_time": "2022-05-19T09:08:30.069090Z"
    }
   },
   "outputs": [],
   "source": [
    "# Reference: Decorators 101 - A Gentle Introduction to Functional Programming.\n",
    "# By Jillian Munson - PyGotham 2014.\n",
    "# https://www.youtube.com/watch?v=yW0cK3IxlHc\n",
    "\n",
    "# Decorators are functions that compliment other functions,\n",
    "# or in other words, modify a function or method.\n",
    "\n",
    "# In the example below, we have a function named `decorated`.\n",
    "# This function just prints \"This happened\".\n",
    "# We have a decorator created named `inner_decorator()`.\n",
    "# This decorator function has an function within, which\n",
    "# does some operations (print stuff for simplicity) and then\n",
    "# returns the return-value of the internal function.\n",
    "\n",
    "# How does it work?\n",
    "# a) The function `decorated()` gets called.\n",
    "# b) Since the decorator `@my_decorator` is defined above\n",
    "# `decorated()`, `my_decorator()` gets called.\n",
    "# c) my_decorator() takes a function name as args, and hence `decorated()`\n",
    "# gets passed as the arg.\n",
    "# d) `my_decorator()` does it's job, and when it reaches `myfunction()`\n",
    "# calls the actual function, ie.. decorated()\n",
    "# e) Once the function `decorated()` is done, it gets back to `my_decorator()`.\n",
    "# f) Hence, using a decorator can drastically change the behavior of the\n",
    "# function you're actually executing.\n",
    "\n",
    "\n",
    "def my_decorator(my_function):  # <-- (4)\n",
    "    def inner_decorator():  # <-- (5)\n",
    "        print(\"This happened before!\")  # <-- (6)\n",
    "        my_function()  # <-- (7)\n",
    "        print(\"This happens after \")  # <-- (10)\n",
    "        print(\"This happened at the end!\")  # <-- (11)\n",
    "\n",
    "    return inner_decorator\n",
    "    # return None\n",
    "\n",
    "\n",
    "@my_decorator  # <-- (3)\n",
    "def my_decorated():  # <-- (2) <-- (8)\n",
    "    print(\"This happened!\")  # <-- (9)"
   ]
  },
  {
   "cell_type": "code",
   "execution_count": 2,
   "metadata": {
    "ExecuteTime": {
     "end_time": "2022-05-19T09:08:44.836948Z",
     "start_time": "2022-05-19T09:08:44.823981Z"
    }
   },
   "outputs": [
    {
     "name": "stdout",
     "output_type": "stream",
     "text": [
      "This happened before!\n",
      "This happened!\n",
      "This happens after \n",
      "This happened at the end!\n"
     ]
    }
   ],
   "source": [
    "if __name__ == \"__main__\":\n",
    "    my_decorated()  # <-- (1)\n",
    "\n",
    "# This prints:\n",
    "# # python 19-decorators-1.py\n",
    "# This happened before!\n",
    "# This happened!\n",
    "# This happens after\n",
    "# This happened at the end!"
   ]
  },
  {
   "cell_type": "markdown",
   "metadata": {
    "ExecuteTime": {
     "end_time": "2022-05-19T08:44:54.536720Z",
     "start_time": "2022-05-19T08:44:54.520763Z"
    }
   },
   "source": [
    "# 20-decorators-2.py\n",
    " An updated version of 19-decorators-1.py"
   ]
  },
  {
   "cell_type": "code",
   "execution_count": 3,
   "metadata": {
    "ExecuteTime": {
     "end_time": "2022-05-19T09:10:08.160890Z",
     "start_time": "2022-05-19T09:10:08.146962Z"
    }
   },
   "outputs": [],
   "source": [
    "# An updated version of 19-decorators-1.py\n",
    "\n",
    "# This code snippet takes the previous example, and add a bit more information\n",
    "# to the output.\n",
    "\n",
    "import datetime\n",
    "\n",
    "\n",
    "def my_decorator(inner):\n",
    "    def inner_decorator():\n",
    "        print(datetime.datetime.utcnow())\n",
    "        inner()\n",
    "        print(datetime.datetime.utcnow())\n",
    "\n",
    "    return inner_decorator\n",
    "\n",
    "\n",
    "@my_decorator\n",
    "def decorated():\n",
    "    print(\"This happened!\")"
   ]
  },
  {
   "cell_type": "code",
   "execution_count": 4,
   "metadata": {
    "ExecuteTime": {
     "end_time": "2022-05-19T09:10:18.457697Z",
     "start_time": "2022-05-19T09:10:18.445729Z"
    }
   },
   "outputs": [
    {
     "name": "stdout",
     "output_type": "stream",
     "text": [
      "2022-05-19 09:10:18.446726\n",
      "This happened!\n",
      "2022-05-19 09:10:18.446726\n"
     ]
    }
   ],
   "source": [
    "if __name__ == \"__main__\":\n",
    "    decorated()\n",
    "\n",
    "# This will print: (NOTE: The time will change of course :P)\n",
    "# # python 20-decorators-2.py\n",
    "# 2016-05-29 11:46:07.444330\n",
    "# This happened!\n",
    "# 2016-05-29 11:46:07.444367"
   ]
  },
  {
   "cell_type": "markdown",
   "metadata": {},
   "source": [
    "# This is an updated version of 20-decorators-2.py."
   ]
  },
  {
   "cell_type": "code",
   "execution_count": 12,
   "metadata": {
    "ExecuteTime": {
     "end_time": "2022-05-19T09:19:44.171967Z",
     "start_time": "2022-05-19T09:19:44.156009Z"
    }
   },
   "outputs": [],
   "source": [
    "# Here, the `decorated()` function takes an argument\n",
    "# and prints it back on terminal.\n",
    "\n",
    "# When the decorator `@my_decorator` is called, it\n",
    "# takes the function `decorated()` as its argument, and\n",
    "# the argument of `decorated()` as the argument of `inner_decorator()`.\n",
    "# Hence the arg `number` is passed to `num_copy`.\n",
    "\n",
    "import datetime\n",
    "\n",
    "\n",
    "def my_decorator(inner):\n",
    "    def inner_decorator(num_copy):\n",
    "        print(datetime.datetime.utcnow())\n",
    "        inner(int(num_copy) + 1)\n",
    "        print(datetime.datetime.utcnow())\n",
    "\n",
    "    return inner_decorator\n",
    "\n",
    "\n",
    "@my_decorator\n",
    "def decorated(number):\n",
    "    print(\"This happened : \" + str(number))"
   ]
  },
  {
   "cell_type": "code",
   "execution_count": 6,
   "metadata": {
    "ExecuteTime": {
     "end_time": "2022-05-19T09:13:03.460108Z",
     "start_time": "2022-05-19T09:13:03.453126Z"
    }
   },
   "outputs": [
    {
     "name": "stdout",
     "output_type": "stream",
     "text": [
      "2022-05-19 09:13:03.454124\n",
      "This happened : 6\n",
      "2022-05-19 09:13:03.455122\n"
     ]
    }
   ],
   "source": [
    "if __name__ == \"__main__\":\n",
    "    decorated(5)\n",
    "\n",
    "# This prints:\n",
    "# python 21-decorators-3.py\n",
    "# 2016-05-29 12:11:57.212125\n",
    "# This happened : 6\n",
    "# 2016-05-29 12:11:57.212168"
   ]
  },
  {
   "cell_type": "markdown",
   "metadata": {},
   "source": [
    "# 22-decorators-4.py"
   ]
  },
  {
   "cell_type": "code",
   "execution_count": 7,
   "metadata": {
    "ExecuteTime": {
     "end_time": "2022-05-19T09:14:10.832975Z",
     "start_time": "2022-05-19T09:14:10.820028Z"
    }
   },
   "outputs": [],
   "source": [
    "# This example builds on the previous decorator examples.\n",
    "# The previous example, 21-decorators-3.py showed how to\n",
    "# deal with one argument passed to the function.\n",
    "\n",
    "# This example shows how we can deal with multiple args.\n",
    "\n",
    "# Reminder : `args` is a list of arguments passed, while\n",
    "# kwargs is a dictionary passed as arguments.\n",
    "\n",
    "\n",
    "def decorator(inner):\n",
    "    def inner_decorator(*args, **kwargs):\n",
    "        print(args, kwargs)\n",
    "\n",
    "    return inner_decorator\n",
    "\n",
    "\n",
    "@decorator\n",
    "def decorated(string_args):\n",
    "    print(\"This happened : \" + string_args)"
   ]
  },
  {
   "cell_type": "code",
   "execution_count": 8,
   "metadata": {
    "ExecuteTime": {
     "end_time": "2022-05-19T09:14:15.170754Z",
     "start_time": "2022-05-19T09:14:15.165768Z"
    }
   },
   "outputs": [
    {
     "name": "stdout",
     "output_type": "stream",
     "text": [
      "('Hello, how are you?',) {}\n"
     ]
    }
   ],
   "source": [
    "if __name__ == \"__main__\":\n",
    "    decorated(\"Hello, how are you?\")\n",
    "\n",
    "# This prints :\n",
    "# # python 22-decorators-4.py\n",
    "# ('Hello, how are you?',)"
   ]
  },
  {
   "cell_type": "markdown",
   "metadata": {},
   "source": [
    "# 23-decorators-5.py"
   ]
  },
  {
   "cell_type": "code",
   "execution_count": 9,
   "metadata": {
    "ExecuteTime": {
     "end_time": "2022-05-19T09:16:07.393398Z",
     "start_time": "2022-05-19T09:16:07.386416Z"
    }
   },
   "outputs": [
    {
     "name": "stdout",
     "output_type": "stream",
     "text": [
      "An exception was thrown :  <class 'Exception'>\n",
      "None\n"
     ]
    }
   ],
   "source": [
    "# Reference : https://www.youtube.com/watch?v=bxhuLgybIro\n",
    "\n",
    "from __future__ import print_function\n",
    "\n",
    "\n",
    "# 2. Decorator function\n",
    "def handle_exceptions(func_name):\n",
    "    def inner(*args, **kwargs):\n",
    "        try:\n",
    "            return func_name(*args, **kwargs)\n",
    "        except Exception:\n",
    "            print(\"An exception was thrown : \", Exception)\n",
    "\n",
    "    return inner\n",
    "\n",
    "\n",
    "# 1. Main function\n",
    "@handle_exceptions\n",
    "def divide(x, y):\n",
    "    return x / y\n",
    "\n",
    "\n",
    "print(divide(8, 0))"
   ]
  },
  {
   "cell_type": "code",
   "execution_count": 10,
   "metadata": {
    "ExecuteTime": {
     "end_time": "2022-05-19T09:17:19.590091Z",
     "start_time": "2022-05-19T09:17:19.577126Z"
    }
   },
   "outputs": [
    {
     "name": "stdout",
     "output_type": "stream",
     "text": [
      "This function takes 1 arguments\n",
      "This happened: Hello\n",
      "This function takes 2 arguments\n",
      "Sum of 1and2: 3\n"
     ]
    }
   ],
   "source": [
    "def decorator(inner):\n",
    "    def inner_decorator(*args, **kwargs):\n",
    "        print(\"This function takes \" + str(len(args)) + \" arguments\")\n",
    "        inner(*args)\n",
    "\n",
    "    return inner_decorator\n",
    "\n",
    "\n",
    "@decorator\n",
    "def decorated(string_args):\n",
    "    print(\"This happened: \" + str(string_args))\n",
    "\n",
    "\n",
    "@decorator\n",
    "def alsoDecorated(num1, num2):\n",
    "    print(\"Sum of \" + str(num1) + \"and\" + str(num2) + \": \" + str(num1 + num2))\n",
    "\n",
    "\n",
    "if __name__ == \"__main__\":\n",
    "    decorated(\"Hello\")\n",
    "    alsoDecorated(1, 2)"
   ]
  },
  {
   "cell_type": "markdown",
   "metadata": {},
   "source": [
    "# 25-decorators-7.py"
   ]
  },
  {
   "cell_type": "code",
   "execution_count": 11,
   "metadata": {
    "ExecuteTime": {
     "end_time": "2022-05-19T09:18:17.425209Z",
     "start_time": "2022-05-19T09:18:17.408314Z"
    }
   },
   "outputs": [
    {
     "name": "stdout",
     "output_type": "stream",
     "text": [
      "60\n",
      "10\n"
     ]
    }
   ],
   "source": [
    "# Reference https://www.youtube.com/watch?v=Slf1b3yUocc\n",
    "\n",
    "# We have two functions, one which adds two numbers,\n",
    "# and another which subtracts two numbers.\n",
    "\n",
    "# We apply the decorator @double which takes in the\n",
    "# functions that is called with the decorator, and doubles\n",
    "# the output of the respective function.\n",
    "\n",
    "\n",
    "def double(my_func):\n",
    "    def inner_func(a, b):\n",
    "        return 2 * my_func(a, b)\n",
    "\n",
    "    return inner_func\n",
    "\n",
    "\n",
    "@double\n",
    "def adder(a, b):\n",
    "    return a + b\n",
    "\n",
    "\n",
    "@double\n",
    "def subtractor(a, b):\n",
    "    return a - b\n",
    "\n",
    "\n",
    "print(adder(10, 20))\n",
    "print(subtractor(6, 1))"
   ]
  },
  {
   "cell_type": "markdown",
   "metadata": {},
   "source": [
    "# 26-class-decorators.py"
   ]
  },
  {
   "cell_type": "code",
   "execution_count": 13,
   "metadata": {
    "ExecuteTime": {
     "end_time": "2022-05-19T09:20:40.918731Z",
     "start_time": "2022-05-19T09:20:40.913744Z"
    }
   },
   "outputs": [],
   "source": [
    "# Reference : https://www.youtube.com/watch?v=Slf1b3yUocc\n",
    "# Talk by Mike Burns\n",
    "\n",
    "# Till the previous examples, we saw function decorators.\n",
    "# But decorators can be applied to Classes as well.\n",
    "# This example deals with class decorators.\n",
    "\n",
    "# NOTE: If you are creating a decorator for a class, you'll it\n",
    "# to return a Class.\n",
    "\n",
    "# NOTE: Similarly, if you are creating a decorator for a function,\n",
    "# you'll need it to return a function.\n",
    "\n",
    "\n",
    "def honirific(cls):\n",
    "    class HonirificCls(cls):\n",
    "        def full_name(self):\n",
    "            return \"Dr. \" + super(HonirificCls, self).full_name()\n",
    "\n",
    "    return HonirificCls\n",
    "\n",
    "\n",
    "@honirific\n",
    "class Name(object):\n",
    "    def __init__(self, first_name, last_name):\n",
    "        self.first_name = first_name\n",
    "        self.last_name = last_name\n",
    "\n",
    "    def full_name(self):\n",
    "        return \" \".join([self.first_name, self.last_name])"
   ]
  },
  {
   "cell_type": "code",
   "execution_count": 14,
   "metadata": {
    "ExecuteTime": {
     "end_time": "2022-05-19T09:20:46.493085Z",
     "start_time": "2022-05-19T09:20:46.475136Z"
    }
   },
   "outputs": [
    {
     "name": "stdout",
     "output_type": "stream",
     "text": [
      "Full name: Dr. Vimal A.R\n"
     ]
    }
   ],
   "source": [
    "result = Name(\"Vimal\", \"A.R\").full_name()\n",
    "print(\"Full name: {0}\".format(result))\n",
    "\n",
    "# This needs further check. Erroring out."
   ]
  },
  {
   "cell_type": "code",
   "execution_count": null,
   "metadata": {},
   "outputs": [],
   "source": []
  }
 ],
 "metadata": {
  "kernelspec": {
   "display_name": "Python 3 (ipykernel)",
   "language": "python",
   "name": "python3"
  },
  "language_info": {
   "codemirror_mode": {
    "name": "ipython",
    "version": 3
   },
   "file_extension": ".py",
   "mimetype": "text/x-python",
   "name": "python",
   "nbconvert_exporter": "python",
   "pygments_lexer": "ipython3",
   "version": "3.9.12"
  },
  "toc": {
   "base_numbering": 1,
   "nav_menu": {},
   "number_sections": true,
   "sideBar": true,
   "skip_h1_title": false,
   "title_cell": "Table of Contents",
   "title_sidebar": "Contents",
   "toc_cell": false,
   "toc_position": {},
   "toc_section_display": true,
   "toc_window_display": true
  }
 },
 "nbformat": 4,
 "nbformat_minor": 2
}
