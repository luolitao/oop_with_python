{
 "cells": [
  {
   "cell_type": "markdown",
   "metadata": {},
   "source": [
    "# 40-super-1.py\n",
    "\n",
    " This is an example on how super() works\n",
    " in Inheritance.\n",
    "\n",
    " For more step-by-step details, refer :\n",
    " https://arvimal.wordpress.com/2016/07/01/inheritance-and-super-object-oriented-programming/"
   ]
  },
  {
   "cell_type": "code",
   "execution_count": 2,
   "metadata": {
    "ExecuteTime": {
     "end_time": "2022-05-19T09:53:39.882508Z",
     "start_time": "2022-05-19T09:53:39.876523Z"
    }
   },
   "outputs": [
    {
     "name": "stdout",
     "output_type": "stream",
     "text": [
      "I'm actually being called from the Child class\n",
      "But...\n",
      "I'm being called from the Parent class\n"
     ]
    }
   ],
   "source": [
    "class MyClass(object):\n",
    "    def func(self):\n",
    "        print(\"I'm being called from the Parent class\")\n",
    "\n",
    "\n",
    "class ChildClass(MyClass):\n",
    "    def func(self):\n",
    "        print(\"I'm actually being called from the Child class\")\n",
    "        print(\"But...\")\n",
    "        # Calling the `func()` method from the Parent class.\n",
    "        super(ChildClass, self).func()\n",
    "\n",
    "\n",
    "my_instance_2 = ChildClass()\n",
    "my_instance_2.func()"
   ]
  },
  {
   "cell_type": "markdown",
   "metadata": {},
   "source": [
    "# 41-super-2.py\n",
    "\n",
    " For more information on how this works, refer:\n",
    "\n",
    " https://arvimal.wordpress.com/2016/07/01/inheritance-and-super-object-oriented-programming/\n",
    "\n",
    " https://arvimal.wordpress.com/2016/06/29/inheritance-and-method-overloading-object-oriented-programming/\n"
   ]
  },
  {
   "cell_type": "code",
   "execution_count": 3,
   "metadata": {
    "ExecuteTime": {
     "end_time": "2022-05-19T09:54:57.562718Z",
     "start_time": "2022-05-19T09:54:57.549802Z"
    }
   },
   "outputs": [
    {
     "name": "stdout",
     "output_type": "stream",
     "text": [
      "<__main__.MyChildClass object at 0x000002867EA85190>\n",
      "Documentation for MyChild Class\n"
     ]
    }
   ],
   "source": [
    "import abc\n",
    "\n",
    "\n",
    "class MyClass(object):\n",
    "    __metaclass__ = abc.ABCMeta\n",
    "\n",
    "    def my_set_val(self, value):\n",
    "        self.value = value\n",
    "\n",
    "    def my_get_val(self):\n",
    "        return self.value\n",
    "\n",
    "    @abc.abstractmethod\n",
    "    def print_doc(self):\n",
    "        return\n",
    "\n",
    "\n",
    "class MyChildClass(MyClass):\n",
    "    def my_set_val(self, value):\n",
    "        if not isinstance(value, int):\n",
    "            value = 0\n",
    "        super(MyChildClass, self).my_set_val(self)\n",
    "\n",
    "    def print_doc(self):\n",
    "        print(\"Documentation for MyChild Class\")\n",
    "\n",
    "\n",
    "my_instance = MyChildClass()\n",
    "my_instance.my_set_val(100)\n",
    "print(my_instance.my_get_val())\n",
    "my_instance.print_doc()"
   ]
  },
  {
   "cell_type": "markdown",
   "metadata": {},
   "source": [
    "# 42-super-3.py\n",
    "\n",
    " super() and __init__()\n",
    "\n",
    " Refer\n",
    " https://arvimal.wordpress.com/2016/07/01/inheritance-and-super-object-oriented-programming/\n",
    "\n",
    " http://www.blog.pythonlibrary.org/2014/01/21/python-201-what-is-super/\n",
    "\n",
    "\n"
   ]
  },
  {
   "cell_type": "code",
   "execution_count": 4,
   "metadata": {
    "ExecuteTime": {
     "end_time": "2022-05-19T09:55:34.657789Z",
     "start_time": "2022-05-19T09:55:34.649776Z"
    }
   },
   "outputs": [
    {
     "name": "stdout",
     "output_type": "stream",
     "text": [
      "D\n",
      "B\n"
     ]
    }
   ],
   "source": [
    "class A(object):\n",
    "    def foo(self):\n",
    "        print(\"A\")\n",
    "\n",
    "\n",
    "class B(A):\n",
    "    def foo(self):\n",
    "        print(\"B\")\n",
    "\n",
    "\n",
    "class C(A):\n",
    "    def foo(self):\n",
    "        print(\"C\")\n",
    "        super(C, self).foo()\n",
    "\n",
    "\n",
    "class D(B, C):\n",
    "    def foo(self):\n",
    "        print(\"D\")\n",
    "        super(D, self).foo()\n",
    "\n",
    "\n",
    "d = D()\n",
    "d.foo()"
   ]
  },
  {
   "cell_type": "code",
   "execution_count": null,
   "metadata": {},
   "outputs": [],
   "source": []
  }
 ],
 "metadata": {
  "kernelspec": {
   "display_name": "Python 3 (ipykernel)",
   "language": "python",
   "name": "python3"
  },
  "language_info": {
   "codemirror_mode": {
    "name": "ipython",
    "version": 3
   },
   "file_extension": ".py",
   "mimetype": "text/x-python",
   "name": "python",
   "nbconvert_exporter": "python",
   "pygments_lexer": "ipython3",
   "version": "3.9.12"
  },
  "toc": {
   "base_numbering": 1,
   "nav_menu": {},
   "number_sections": true,
   "sideBar": true,
   "skip_h1_title": false,
   "title_cell": "Table of Contents",
   "title_sidebar": "Contents",
   "toc_cell": false,
   "toc_position": {},
   "toc_section_display": true,
   "toc_window_display": false
  }
 },
 "nbformat": 4,
 "nbformat_minor": 4
}
