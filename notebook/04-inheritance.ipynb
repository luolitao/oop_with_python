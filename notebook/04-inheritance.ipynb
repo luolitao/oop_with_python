{
 "cells": [
  {
   "cell_type": "markdown",
   "metadata": {},
   "source": [
    "# 09-inheritance-1.py\n",
    " The code below shows how a class can inherit from another class.\n",
    " We have two classes, `Date` and `Time`. Here `Time` inherits from\n",
    " `Date`.\n",
    "\n",
    " Any class inheriting from another class (also called a Parent class)\n",
    " inherits the methods and attributes from the Parent class.\n",
    "\n",
    " Hence, any instances created from the class `Time` can access\n",
    " the methods defined in the parent class `Date`."
   ]
  },
  {
   "cell_type": "code",
   "execution_count": 1,
   "metadata": {
    "ExecuteTime": {
     "end_time": "2022-05-19T10:09:01.160868Z",
     "start_time": "2022-05-19T10:09:01.150897Z"
    }
   },
   "outputs": [],
   "source": [
    "class Date(object):\n",
    "    def get_date(self):\n",
    "        print(\"2016-05-14\")\n",
    "\n",
    "\n",
    "class Time(Date):\n",
    "    def get_time(self):\n",
    "        print(\"07:00:00\")"
   ]
  },
  {
   "cell_type": "code",
   "execution_count": 2,
   "metadata": {
    "ExecuteTime": {
     "end_time": "2022-05-19T10:09:02.843819Z",
     "start_time": "2022-05-19T10:09:02.834843Z"
    }
   },
   "outputs": [
    {
     "name": "stdout",
     "output_type": "stream",
     "text": [
      "2016-05-14\n",
      "--------\n"
     ]
    }
   ],
   "source": [
    "# Creating an instance from `Date`\n",
    "dt = Date()\n",
    "dt.get_date()  # Accesing the `get_date()` method of `Date`\n",
    "print(\"--------\")"
   ]
  },
  {
   "cell_type": "code",
   "execution_count": 3,
   "metadata": {
    "ExecuteTime": {
     "end_time": "2022-05-19T10:09:04.209967Z",
     "start_time": "2022-05-19T10:09:04.194028Z"
    }
   },
   "outputs": [
    {
     "name": "stdout",
     "output_type": "stream",
     "text": [
      "07:00:00\n",
      "2016-05-14\n"
     ]
    }
   ],
   "source": [
    "# Creating an instance from `Time`.\n",
    "tm = Time()\n",
    "tm.get_time()  # Accessing the `get_time()` method from `Time`.\n",
    "# Accessing the `get_date() which is defined in the parent class `Date`.\n",
    "tm.get_date()"
   ]
  },
  {
   "cell_type": "markdown",
   "metadata": {},
   "source": [
    "# 10-inheritance-2.py\n",
    " The code below shows another example of inheritance\n",
    " Dog and Cat are two classes which inherits from Animal.\n",
    " This an instance created from Dog or Cat can access the methods\n",
    " in the Animal class, ie.. eat().\n",
    "\n",
    " The instance of 'Dog' can access the methods of the Dog class\n",
    " and it's parent class 'Animal'.\n",
    "\n",
    " The instance of 'Cat' can access the methods of the Cat class\n",
    " and it's parent class 'Animal'.\n",
    "\n",
    " But the instance created from 'Cat' cannot access the attributes\n",
    " within the 'Dog' class, and vice versa."
   ]
  },
  {
   "cell_type": "code",
   "execution_count": 4,
   "metadata": {
    "ExecuteTime": {
     "end_time": "2022-05-19T10:09:31.143662Z",
     "start_time": "2022-05-19T10:09:31.133689Z"
    }
   },
   "outputs": [],
   "source": [
    "class Animal(object):\n",
    "    def __init__(self, name):\n",
    "        self.name = name\n",
    "\n",
    "    def eat(self, food):\n",
    "        print(\"%s is eating %s\" % (self.name, food))\n",
    "\n",
    "\n",
    "class Dog(Animal):\n",
    "    def fetch(self, thing):\n",
    "        print(\"%s goes after the %s\" % (self.name, thing))\n",
    "\n",
    "\n",
    "class Cat(Animal):\n",
    "    def swatstring(self):\n",
    "        print(\"%s shred the string!\" % self.name)"
   ]
  },
  {
   "cell_type": "code",
   "execution_count": 5,
   "metadata": {
    "ExecuteTime": {
     "end_time": "2022-05-19T10:09:32.463785Z",
     "start_time": "2022-05-19T10:09:32.447829Z"
    }
   },
   "outputs": [
    {
     "name": "stdout",
     "output_type": "stream",
     "text": [
      "Roger goes after the paper\n",
      "Roger is eating dog food\n",
      "--------\n",
      "Fluffy is eating cat food\n",
      "Fluffy shred the string!\n"
     ]
    }
   ],
   "source": [
    "d = Dog(\"Roger\")\n",
    "c = Cat(\"Fluffy\")\n",
    "\n",
    "d.fetch(\"paper\")\n",
    "d.eat(\"dog food\")\n",
    "print(\"--------\")\n",
    "c.eat(\"cat food\")\n",
    "c.swatstring()"
   ]
  },
  {
   "cell_type": "markdown",
   "metadata": {},
   "source": [
    " The below methods would fail, since the instances doesn't have\n",
    " have access to the other class."
   ]
  },
  {
   "cell_type": "code",
   "execution_count": 7,
   "metadata": {
    "ExecuteTime": {
     "end_time": "2022-05-19T10:09:57.507577Z",
     "start_time": "2022-05-19T10:09:57.486594Z"
    }
   },
   "outputs": [
    {
     "ename": "AttributeError",
     "evalue": "'Cat' object has no attribute 'fetch'",
     "output_type": "error",
     "traceback": [
      "\u001b[1;31m---------------------------------------------------------------------------\u001b[0m",
      "\u001b[1;31mAttributeError\u001b[0m                            Traceback (most recent call last)",
      "\u001b[1;32m~\\AppData\\Local\\Temp\\ipykernel_5540\\1886135570.py\u001b[0m in \u001b[0;36m<cell line: 1>\u001b[1;34m()\u001b[0m\n\u001b[1;32m----> 1\u001b[1;33m \u001b[0mc\u001b[0m\u001b[1;33m.\u001b[0m\u001b[0mfetch\u001b[0m\u001b[1;33m(\u001b[0m\u001b[1;34m\"frizbee\"\u001b[0m\u001b[1;33m)\u001b[0m\u001b[1;33m\u001b[0m\u001b[1;33m\u001b[0m\u001b[0m\n\u001b[0m\u001b[0;32m      2\u001b[0m \u001b[0md\u001b[0m\u001b[1;33m.\u001b[0m\u001b[0mswatstring\u001b[0m\u001b[1;33m(\u001b[0m\u001b[1;33m)\u001b[0m\u001b[1;33m\u001b[0m\u001b[1;33m\u001b[0m\u001b[0m\n",
      "\u001b[1;31mAttributeError\u001b[0m: 'Cat' object has no attribute 'fetch'"
     ]
    }
   ],
   "source": [
    "c.fetch(\"frizbee\")\n",
    "d.swatstring()"
   ]
  },
  {
   "cell_type": "markdown",
   "metadata": {},
   "source": [
    "# 13-inheriting-init-constructor-1.py\n",
    " This is a normal inheritance example from which we build\n",
    " the next example. Make sure to read and understand the\n",
    " next example '14-inheriting-init-constructor-2.py'."
   ]
  },
  {
   "cell_type": "code",
   "execution_count": 8,
   "metadata": {
    "ExecuteTime": {
     "end_time": "2022-05-19T10:10:15.323360Z",
     "start_time": "2022-05-19T10:10:15.317388Z"
    }
   },
   "outputs": [],
   "source": [
    "class Animal(object):\n",
    "    def __init__(self, name):\n",
    "        self.name = name\n",
    "\n",
    "\n",
    "class Dog(Animal):\n",
    "    def fetch(self, thing):\n",
    "        print(\"%s goes after the %s\" % (self.name, thing))"
   ]
  },
  {
   "cell_type": "code",
   "execution_count": 9,
   "metadata": {
    "ExecuteTime": {
     "end_time": "2022-05-19T10:10:17.288264Z",
     "start_time": "2022-05-19T10:10:17.279318Z"
    }
   },
   "outputs": [
    {
     "name": "stdout",
     "output_type": "stream",
     "text": [
      "The dog's name is Roger\n",
      "Roger goes after the frizbee\n"
     ]
    }
   ],
   "source": [
    "d = Dog(\"Roger\")\n",
    "print(\"The dog's name is\", d.name)\n",
    "d.fetch(\"frizbee\")"
   ]
  },
  {
   "cell_type": "markdown",
   "metadata": {},
   "source": [
    "# 14-multiple-inheritance-1.py\n",
    " Python supports multiple inheritance and uses a depth-first order\n",
    " when searching for methods.\n",
    " This search pattern is call MRO (Method Resolution Order)\n",
    "\n",
    " This is the first example, which shows the lookup of a common\n",
    " function named 'dothis()', which we'll continue in other examples.\n",
    "\n",
    " As per the MRO output, it starts in class D, then B, A, and lastly C.\n",
    "\n",
    " Both A and C contains 'dothis()'. Let's trace how the lookup happens.\n",
    "\n",
    " As per the MRO output, it starts in class D, then B, A, and lastly C.\n",
    "\n",
    " class `A` defines 'dothis()' and the search ends there. It doesn't go to C.\n",
    "\n",
    " The MRO will show the full resolution path even if the full path is\n",
    " not traversed.\n",
    "\n",
    " The method lookup flow in this case is : D -> B -> A -> C"
   ]
  },
  {
   "cell_type": "code",
   "execution_count": 10,
   "metadata": {
    "ExecuteTime": {
     "end_time": "2022-05-19T10:10:47.174827Z",
     "start_time": "2022-05-19T10:10:47.156875Z"
    }
   },
   "outputs": [],
   "source": [
    "class A(object):\n",
    "    def dothis(self):\n",
    "        print(\"doing this in A\")\n",
    "\n",
    "\n",
    "class B(A):\n",
    "    pass\n",
    "\n",
    "\n",
    "class C(object):\n",
    "    def dothis(self):\n",
    "        print(\"doing this in C\")\n",
    "\n",
    "\n",
    "class D(B, C):\n",
    "    pass"
   ]
  },
  {
   "cell_type": "code",
   "execution_count": 11,
   "metadata": {
    "ExecuteTime": {
     "end_time": "2022-05-19T10:10:49.243225Z",
     "start_time": "2022-05-19T10:10:49.228299Z"
    }
   },
   "outputs": [
    {
     "name": "stdout",
     "output_type": "stream",
     "text": [
      "doing this in A\n"
     ]
    }
   ],
   "source": [
    "d_instance = D()\n",
    "d_instance.dothis()  # <== This should print from class A."
   ]
  },
  {
   "cell_type": "code",
   "execution_count": 12,
   "metadata": {
    "ExecuteTime": {
     "end_time": "2022-05-19T10:10:50.194657Z",
     "start_time": "2022-05-19T10:10:50.181490Z"
    }
   },
   "outputs": [
    {
     "name": "stdout",
     "output_type": "stream",
     "text": [
      "\n",
      "Print the Method Resolution Order\n",
      "[<class '__main__.D'>, <class '__main__.B'>, <class '__main__.A'>, <class '__main__.C'>, <class 'object'>]\n"
     ]
    }
   ],
   "source": [
    "print(\"\\nPrint the Method Resolution Order\")\n",
    "print(D.mro())"
   ]
  },
  {
   "cell_type": "markdown",
   "metadata": {},
   "source": [
    "# 15-multiple-inheritance-2.py\n",
    " Python supports multiple inheritance\n",
    "\n",
    " It uses a depth-first order when searching for methods.\n",
    " This search pattern is call MRO (Method Resolution Order)\n",
    "\n",
    " This is a second example, which shows the lookup of 'dothis()'.\n",
    " Both A and C contains 'dothis()'. Let's trace how the lookup happens.\n",
    "\n",
    " As per the MRO output using depth-first search,\n",
    " it starts in class D, then B, A, and lastly C.\n",
    "\n",
    " Here we're looking for 'dothis()' which is defined in class `C`.\n",
    " The lookup goes from D -> B -> A -> C.\n",
    "\n",
    " Since class `A` doesn't have `dothis()`, the lookup goes back to class `C`\n",
    " and finds it there."
   ]
  },
  {
   "cell_type": "code",
   "execution_count": 13,
   "metadata": {
    "ExecuteTime": {
     "end_time": "2022-05-19T10:11:13.032329Z",
     "start_time": "2022-05-19T10:11:13.014414Z"
    }
   },
   "outputs": [],
   "source": [
    "class A(object):\n",
    "    def dothat(self):\n",
    "        print(\"Doing this in A\")\n",
    "\n",
    "\n",
    "class B(A):\n",
    "    pass\n",
    "\n",
    "\n",
    "class C(object):\n",
    "    def dothis(self):\n",
    "        print(\"\\nDoing this in C\")\n",
    "\n",
    "\n",
    "class D(B, C):\n",
    "    \"\"\"Multiple Inheritance,\n",
    "    D inheriting from both B and C\"\"\"\n",
    "\n",
    "    pass"
   ]
  },
  {
   "cell_type": "code",
   "execution_count": 14,
   "metadata": {
    "ExecuteTime": {
     "end_time": "2022-05-19T10:11:15.570154Z",
     "start_time": "2022-05-19T10:11:15.552324Z"
    }
   },
   "outputs": [
    {
     "name": "stdout",
     "output_type": "stream",
     "text": [
      "\n",
      "Doing this in C\n"
     ]
    }
   ],
   "source": [
    "d_instance = D()\n",
    "\n",
    "d_instance.dothis()"
   ]
  },
  {
   "cell_type": "code",
   "execution_count": 15,
   "metadata": {
    "ExecuteTime": {
     "end_time": "2022-05-19T10:11:16.786885Z",
     "start_time": "2022-05-19T10:11:16.782908Z"
    }
   },
   "outputs": [
    {
     "name": "stdout",
     "output_type": "stream",
     "text": [
      "\n",
      "Print the Method Resolution Order\n",
      "[<class '__main__.D'>, <class '__main__.B'>, <class '__main__.A'>, <class '__main__.C'>, <class 'object'>]\n"
     ]
    }
   ],
   "source": [
    "print(\"\\nPrint the Method Resolution Order\")\n",
    "print(D.mro())"
   ]
  },
  {
   "cell_type": "markdown",
   "metadata": {},
   "source": [
    "# 16-multiple-inheritance-3.py\n",
    "\n",
    " Python supports multiple inheritance\n",
    " and uses a depth-first order when searching for methods.\n",
    " This search pattern is call MRO (Method Resolution Order)\n",
    "\n",
    " Example for \"Diamond Shape\" inheritance\n",
    " Lookup can get complicated when multiple classes inherit\n",
    " from multiple parent classes.\n",
    "\n",
    " In order to avoid ambiguity while doing a lookup for a method\n",
    " in various classes, from Python 2.3, the MRO lookup order has an\n",
    " additional feature.\n",
    "\n",
    " It still does a depth-first lookup, but if the occurrence of a class\n",
    " happens multiple times in the MRO path, it removes the initial occurrence\n",
    " and keeps the latter.\n",
    "\n",
    " In the example below, class `D` inherits from `B` and `C`.\n",
    " And both `B` and `C` inherits from `A`.\n",
    " Both `A` and `C` has the method `dothis()`.\n",
    "\n",
    " We instantiate `D` and requests the 'dothis()' method.\n",
    " By default, the lookup should go D -> B -> A -> C -> A.\n",
    " But from Python 2.3, in order to reduce the lookup time,\n",
    " the MRO skips the classes which occur multiple times in the path.\n",
    "\n",
    " Hence the lookup will be D -> B -> C -> A."
   ]
  },
  {
   "cell_type": "code",
   "execution_count": 16,
   "metadata": {
    "ExecuteTime": {
     "end_time": "2022-05-19T10:11:53.971906Z",
     "start_time": "2022-05-19T10:11:53.965915Z"
    }
   },
   "outputs": [],
   "source": [
    "class A(object):\n",
    "    def dothis(self):\n",
    "        print(\"doing this in A\")\n",
    "\n",
    "\n",
    "class B(A):\n",
    "    pass\n",
    "\n",
    "\n",
    "class C(A):\n",
    "    def dothis(self):\n",
    "        print(\"doing this in C\")\n",
    "\n",
    "\n",
    "class D(B, C):\n",
    "    pass"
   ]
  },
  {
   "cell_type": "code",
   "execution_count": 17,
   "metadata": {
    "ExecuteTime": {
     "end_time": "2022-05-19T10:11:54.550614Z",
     "start_time": "2022-05-19T10:11:54.539643Z"
    }
   },
   "outputs": [
    {
     "name": "stdout",
     "output_type": "stream",
     "text": [
      "doing this in C\n"
     ]
    }
   ],
   "source": [
    "d_instance = D()\n",
    "d_instance.dothis()"
   ]
  },
  {
   "cell_type": "code",
   "execution_count": 18,
   "metadata": {
    "ExecuteTime": {
     "end_time": "2022-05-19T10:11:55.221231Z",
     "start_time": "2022-05-19T10:11:55.204285Z"
    }
   },
   "outputs": [
    {
     "name": "stdout",
     "output_type": "stream",
     "text": [
      "\n",
      "Print the Method Resolution Order\n",
      "[<class '__main__.D'>, <class '__main__.B'>, <class '__main__.C'>, <class '__main__.A'>, <class 'object'>]\n"
     ]
    }
   ],
   "source": [
    "print(\"\\nPrint the Method Resolution Order\")\n",
    "print(D.mro())"
   ]
  },
  {
   "cell_type": "code",
   "execution_count": null,
   "metadata": {},
   "outputs": [],
   "source": []
  }
 ],
 "metadata": {
  "kernelspec": {
   "display_name": "Python 3 (ipykernel)",
   "language": "python",
   "name": "python3"
  },
  "language_info": {
   "codemirror_mode": {
    "name": "ipython",
    "version": 3
   },
   "file_extension": ".py",
   "mimetype": "text/x-python",
   "name": "python",
   "nbconvert_exporter": "python",
   "pygments_lexer": "ipython3",
   "version": "3.9.12"
  },
  "toc": {
   "base_numbering": 1,
   "nav_menu": {},
   "number_sections": true,
   "sideBar": true,
   "skip_h1_title": false,
   "title_cell": "Table of Contents",
   "title_sidebar": "Contents",
   "toc_cell": false,
   "toc_position": {},
   "toc_section_display": true,
   "toc_window_display": true
  }
 },
 "nbformat": 4,
 "nbformat_minor": 2
}
