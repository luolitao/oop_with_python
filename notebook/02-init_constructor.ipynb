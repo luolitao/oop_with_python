{
 "cells": [
  {
   "cell_type": "markdown",
   "metadata": {},
   "source": [
    "# 04-init_constructor.py\n",
    "\n",
    " __init__() is a constructor method which helps to\n",
    " set initial values while instatiating a class.\n",
    "\n",
    " __init__() will get called with the attributes set in __init__(),\n",
    " when a class is instantiated.\n",
    "\n",
    " The '__' before and after the method name denotes that\n",
    " the method is private. It's called private or magic methods\n",
    " since it's called internally and automatically."
   ]
  },
  {
   "cell_type": "code",
   "execution_count": 1,
   "metadata": {
    "ExecuteTime": {
     "end_time": "2022-05-19T10:04:26.532747Z",
     "start_time": "2022-05-19T10:04:26.513797Z"
    }
   },
   "outputs": [],
   "source": [
    "class MyNum(object):\n",
    "    def __init__(self):\n",
    "        print(\"Calling the __init__() constructor!\\n\")\n",
    "        self.val = 0\n",
    "\n",
    "    def increment(self):\n",
    "        self.val = self.val + 1\n",
    "        print(self.val)"
   ]
  },
  {
   "cell_type": "code",
   "execution_count": 2,
   "metadata": {
    "ExecuteTime": {
     "end_time": "2022-05-19T10:04:29.038459Z",
     "start_time": "2022-05-19T10:04:29.030480Z"
    }
   },
   "outputs": [
    {
     "name": "stdout",
     "output_type": "stream",
     "text": [
      "Calling the __init__() constructor!\n",
      "\n",
      "1\n",
      "2\n"
     ]
    }
   ],
   "source": [
    "dd = MyNum()\n",
    "dd.increment()  # will print 1\n",
    "dd.increment()  # will print 2"
   ]
  },
  {
   "cell_type": "markdown",
   "metadata": {},
   "source": [
    "# 05-init_constructor-2.py\n",
    "\n",
    " We add a test in the __init__() constructor to check\n",
    " if 'value' is an int or not."
   ]
  },
  {
   "cell_type": "code",
   "execution_count": 3,
   "metadata": {
    "ExecuteTime": {
     "end_time": "2022-05-19T10:04:47.786188Z",
     "start_time": "2022-05-19T10:04:47.772222Z"
    }
   },
   "outputs": [],
   "source": [
    "class MyNum(object):\n",
    "    def __init__(self, value):\n",
    "        try:\n",
    "            value = int(value)\n",
    "        except ValueError:\n",
    "            value = 0\n",
    "        self.value = value\n",
    "\n",
    "    def increment(self):\n",
    "        self.value = self.value + 1\n",
    "        print(self.value)"
   ]
  },
  {
   "cell_type": "code",
   "execution_count": 4,
   "metadata": {
    "ExecuteTime": {
     "end_time": "2022-05-19T10:04:48.524058Z",
     "start_time": "2022-05-19T10:04:48.509105Z"
    }
   },
   "outputs": [
    {
     "name": "stdout",
     "output_type": "stream",
     "text": [
      "11\n",
      "12\n"
     ]
    }
   ],
   "source": [
    "a = MyNum(10)\n",
    "a.increment()  # This should print 11\n",
    "a.increment()  # This should print 12"
   ]
  },
  {
   "cell_type": "code",
   "execution_count": null,
   "metadata": {},
   "outputs": [],
   "source": []
  }
 ],
 "metadata": {
  "kernelspec": {
   "display_name": "Python 3 (ipykernel)",
   "language": "python",
   "name": "python3"
  },
  "language_info": {
   "codemirror_mode": {
    "name": "ipython",
    "version": 3
   },
   "file_extension": ".py",
   "mimetype": "text/x-python",
   "name": "python",
   "nbconvert_exporter": "python",
   "pygments_lexer": "ipython3",
   "version": "3.9.12"
  },
  "toc": {
   "base_numbering": 1,
   "nav_menu": {},
   "number_sections": true,
   "sideBar": true,
   "skip_h1_title": false,
   "title_cell": "Table of Contents",
   "title_sidebar": "Contents",
   "toc_cell": false,
   "toc_position": {},
   "toc_section_display": true,
   "toc_window_display": false
  }
 },
 "nbformat": 4,
 "nbformat_minor": 2
}
