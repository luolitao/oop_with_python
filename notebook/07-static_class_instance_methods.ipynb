{
 "cells": [
  {
   "cell_type": "markdown",
   "metadata": {
    "ExecuteTime": {
     "end_time": "2022-05-19T08:38:35.085741Z",
     "start_time": "2022-05-19T08:38:35.067789Z"
    }
   },
   "source": [
    "# 17-instance_methods-1.py"
   ]
  },
  {
   "cell_type": "code",
   "execution_count": 1,
   "metadata": {
    "ExecuteTime": {
     "end_time": "2022-05-19T09:23:07.615203Z",
     "start_time": "2022-05-19T09:23:07.601451Z"
    }
   },
   "outputs": [
    {
     "name": "stdout",
     "output_type": "stream",
     "text": [
      "<bound method A.method of <__main__.A object at 0x000001F20D4C3FA0>>\n"
     ]
    }
   ],
   "source": [
    "# Instance methods are also known as Bound methods since the methods\n",
    "# within a class are bound to the instance created from the class, via\n",
    "# 'self'.\n",
    "\n",
    "\n",
    "class A(object):\n",
    "    def method(*argv):\n",
    "        return argv\n",
    "\n",
    "\n",
    "a = A()\n",
    "print(a.method)\n",
    "\n",
    "# The print() function will print the following :\n",
    "#  python 17-instance_methods-1.py\n",
    "# <bound method A.method of <__main__.A object at 0x7fc91d83e790>>\n",
    "\n",
    "# The output shows that 'method' is a bound method"
   ]
  },
  {
   "cell_type": "markdown",
   "metadata": {
    "ExecuteTime": {
     "end_time": "2022-05-19T08:39:07.061607Z",
     "start_time": "2022-05-19T08:39:07.053629Z"
    }
   },
   "source": [
    "# 18-instance_methods.py"
   ]
  },
  {
   "cell_type": "code",
   "execution_count": 2,
   "metadata": {
    "ExecuteTime": {
     "end_time": "2022-05-19T09:23:50.767709Z",
     "start_time": "2022-05-19T09:23:50.749906Z"
    }
   },
   "outputs": [],
   "source": [
    "# Instance methods are the normal way of accessing methods, seen in all\n",
    "# classes till now. ie.. by instantiating instances from a class, and\n",
    "# access the methods within the class. The usage of `self` is very\n",
    "# important in instance methods due to `self` being a hook/handle to the\n",
    "# instance itself, or the instance itself.\n",
    "\n",
    "# We look into a previous example, once more, to understand `Instance methods`.\n",
    "\n",
    "# We have an __init__() constructor, and three methods within the\n",
    "# `InstanceCounter` class.\n",
    "\n",
    "# Three instances a, b, and c are created from the class `InstanceCounter`.\n",
    "\n",
    "# Since the methods defined in the class are accessed through the\n",
    "# instances 'a', 'b', and 'c', these methods are called 'Instance\n",
    "# methods'.\n",
    "\n",
    "# Since the instance is bound to the methods defined in the class by the\n",
    "# keyword `self`, we also call `Instance methods` as 'Bound methods'.\n",
    "\n",
    "# In the code below, the instance is `obj` (the iterator) and we access\n",
    "# each method as `obj.set_val()`, `obj.get_val()`, and `obj.get_count`."
   ]
  },
  {
   "cell_type": "code",
   "execution_count": 3,
   "metadata": {
    "ExecuteTime": {
     "end_time": "2022-05-19T09:23:57.460600Z",
     "start_time": "2022-05-19T09:23:57.450667Z"
    }
   },
   "outputs": [
    {
     "name": "stdout",
     "output_type": "stream",
     "text": [
      "Value of object: <bound method InstanceCounter.get_val of <__main__.InstanceCounter object at 0x000001F20D529910>>\n",
      "Count : <bound method InstanceCounter.get_count of <__main__.InstanceCounter object at 0x000001F20D529910>> \n",
      "Value of object: <bound method InstanceCounter.get_val of <__main__.InstanceCounter object at 0x000001F20D529970>>\n",
      "Count : <bound method InstanceCounter.get_count of <__main__.InstanceCounter object at 0x000001F20D529970>> \n",
      "Value of object: <bound method InstanceCounter.get_val of <__main__.InstanceCounter object at 0x000001F20D529940>>\n",
      "Count : <bound method InstanceCounter.get_count of <__main__.InstanceCounter object at 0x000001F20D529940>> \n"
     ]
    }
   ],
   "source": [
    "class InstanceCounter(object):\n",
    "    count = 0\n",
    "\n",
    "    def __init__(self, val):\n",
    "        self.val = val\n",
    "        InstanceCounter.count += 1\n",
    "\n",
    "    def set_val(self, newval):\n",
    "        self.val = newval\n",
    "\n",
    "    def get_val(self):\n",
    "        return self.val\n",
    "\n",
    "    def get_count(self):\n",
    "        return InstanceCounter.count\n",
    "\n",
    "\n",
    "a = InstanceCounter(5)\n",
    "b = InstanceCounter(10)\n",
    "c = InstanceCounter(15)\n",
    "\n",
    "for obj in (a, b, c):\n",
    "    print(\"Value of object: %s\" % (obj.get_val))\n",
    "    print(\"Count : %s \" % (obj.get_count))"
   ]
  },
  {
   "cell_type": "markdown",
   "metadata": {
    "ExecuteTime": {
     "end_time": "2022-05-19T08:40:23.364802Z",
     "start_time": "2022-05-19T08:40:23.351837Z"
    }
   },
   "source": [
    "# 19-class_methods-1.py"
   ]
  },
  {
   "cell_type": "code",
   "execution_count": 4,
   "metadata": {
    "ExecuteTime": {
     "end_time": "2022-05-19T09:24:31.856606Z",
     "start_time": "2022-05-19T09:24:31.838656Z"
    }
   },
   "outputs": [
    {
     "name": "stdout",
     "output_type": "stream",
     "text": [
      "Calling the class `MyClass` directly without an instance:\n",
      "Class method 1\n",
      "\n",
      "Calling the instance `MyClass()`:\n",
      "Class method 1\n",
      "Self/Instance method 1\n"
     ]
    }
   ],
   "source": [
    "# A classmethod is an inbuilt decorator which is called on functions via\n",
    "# @classmethod.\n",
    "\n",
    "# The @classmethod decorator marks the function/method as bound to the\n",
    "# class and not to an instance.\n",
    "\n",
    "# Remember that we used 'self' in a function within a class, which denoted\n",
    "# the instance. In class methods, we use `cls` which denotes the class\n",
    "# rather than the instance.\n",
    "\n",
    "# The following example is a very simple explanation of class-methods.\n",
    "\n",
    "# class_1() is a class method while class_2() is an instance method.\n",
    "\n",
    "# Class methods can be accessed by the class as well as the instance.\n",
    "\n",
    "# Instance methods can only be accessed by the Instance. That's why in this example, MyClass.class_2() will fail with an error.\n",
    "\n",
    "# NOTE : For the class MyClass:\n",
    "# \tMyClass is the class itself\n",
    "# \tMyClass() is an instance\n",
    "\n",
    "\n",
    "class MyClass(object):\n",
    "    @classmethod\n",
    "    def class_1(cls):\n",
    "        print(\"Class method 1\")\n",
    "\n",
    "    def class_2(self):\n",
    "        print(\"Self/Instance method 1\")\n",
    "\n",
    "\n",
    "print(\"Calling the class `MyClass` directly without an instance:\")\n",
    "MyClass.class_1()\n",
    "# MyClass.class_2()\n",
    "\n",
    "# NOTE: You will want to comment `MyClass.class_2()` once you hit the `TypeError`\n",
    "# to continue with the examples below.\n",
    "\n",
    "print(\"\\nCalling the instance `MyClass()`:\")\n",
    "MyClass().class_1()\n",
    "MyClass().class_2()"
   ]
  },
  {
   "cell_type": "markdown",
   "metadata": {},
   "source": [
    "# 28-classmethod-2.py\n",
    "Reference: https://jeffknupp.com/blog/2014/06/18/improve-your-python-python-classes-and-object-oriented-programming/\n",
    "\n",
    " Classmethods are decorators which are inbuilt in Python. We decorate a function as a classemethod using the decorator @classmethod.\n",
    "\n",
    " Class methods are used for functions which need not be called via an instance. Certain use cases may be:\n",
    "\n",
    " a) Creating instances take resources, hence the methods/functions which need necessarily"
   ]
  },
  {
   "cell_type": "code",
   "execution_count": 5,
   "metadata": {
    "ExecuteTime": {
     "end_time": "2022-05-19T09:29:27.463462Z",
     "start_time": "2022-05-19T09:29:27.457457Z"
    }
   },
   "outputs": [
    {
     "name": "stdout",
     "output_type": "stream",
     "text": [
      "\n",
      "Value of object : 10\n",
      "1\n"
     ]
    }
   ],
   "source": [
    "class MyClass(object):\n",
    "    count = 0\n",
    "\n",
    "    def __init__(self, val):\n",
    "        self.val = val\n",
    "        MyClass.count += 1\n",
    "\n",
    "    def set_val(self, newval):\n",
    "        self.val = newval\n",
    "\n",
    "    def get_val(self):\n",
    "        return self.val\n",
    "\n",
    "    @classmethod\n",
    "    def get_count(cls):\n",
    "        return cls.count\n",
    "\n",
    "\n",
    "object_1 = MyClass(10)\n",
    "print(\"\\nValue of object : %s\" % object_1.get_val())\n",
    "print(MyClass.get_count())"
   ]
  },
  {
   "cell_type": "code",
   "execution_count": 6,
   "metadata": {
    "ExecuteTime": {
     "end_time": "2022-05-19T09:29:35.639361Z",
     "start_time": "2022-05-19T09:29:35.623363Z"
    }
   },
   "outputs": [
    {
     "name": "stdout",
     "output_type": "stream",
     "text": [
      "\n",
      "Value of object : 20\n",
      "2\n"
     ]
    }
   ],
   "source": [
    "object_2 = MyClass(20)\n",
    "print(\"\\nValue of object : %s\" % object_2.get_val())\n",
    "print(MyClass.get_count())"
   ]
  },
  {
   "cell_type": "code",
   "execution_count": 7,
   "metadata": {
    "ExecuteTime": {
     "end_time": "2022-05-19T09:29:41.548845Z",
     "start_time": "2022-05-19T09:29:41.529894Z"
    }
   },
   "outputs": [
    {
     "name": "stdout",
     "output_type": "stream",
     "text": [
      "\n",
      "Value of object : 40\n",
      "3\n"
     ]
    }
   ],
   "source": [
    "object_3 = MyClass(40)\n",
    "print(\"\\nValue of object : %s\" % object_3.get_val())\n",
    "print(MyClass.get_count())"
   ]
  },
  {
   "cell_type": "markdown",
   "metadata": {},
   "source": [
    "# 29-staticmethod-1.py\n",
    "https://arvimal.wordpress.com/2016/06/12/instance-class-static-methods-object-oriented-programming/\n",
    "\n",
    "1. Static methods are functions methods which doesn’t need a binding to a class or an instance.\n",
    "2. Static methods, as well as Class methods, don’t require an instance  to be called.\n",
    "3. Static methods doesn’t need  self or cls as the first argument since it’s not bound to an instance or class.\n",
    "4. Static methods are normal functions, but within a class.\n",
    "5. Static methods are defined with the keyword @staticmethod above the function/method.\n",
    "6. Static methods are usually used to work on Class Attributes."
   ]
  },
  {
   "cell_type": "code",
   "execution_count": 10,
   "metadata": {
    "ExecuteTime": {
     "end_time": "2022-05-19T09:33:56.223614Z",
     "start_time": "2022-05-19T09:33:56.210685Z"
    }
   },
   "outputs": [
    {
     "name": "stdout",
     "output_type": "stream",
     "text": [
      "5\n",
      "10\n",
      "15\n",
      "100\n"
     ]
    }
   ],
   "source": [
    "class MyClass(object):\n",
    "    count = 0\n",
    "\n",
    "    def __init__(self, val):\n",
    "        self.val = self.filterint(val)\n",
    "        MyClass.count += 1\n",
    "\n",
    "    @staticmethod\n",
    "    def filterint(value):\n",
    "        if not isinstance(value, int):\n",
    "            print(\"Entered value is not an INT, value set to 0\")\n",
    "            return 0\n",
    "        else:\n",
    "            return value\n",
    "\n",
    "\n",
    "a = MyClass(5)\n",
    "b = MyClass(10)\n",
    "c = MyClass(15)\n",
    "\n",
    "print(a.val)\n",
    "print(b.val)\n",
    "print(c.val)\n",
    "print(a.filterint(100))"
   ]
  },
  {
   "cell_type": "markdown",
   "metadata": {},
   "source": [
    "# 30-staticmethod-2.py\n",
    "https://arvimal.wordpress.com/2016/06/12/instance-class-static-methods-object-oriented-programming/\n",
    "* Static methods are functions/methods which doesn’t need a binding to a class or an instance.\n",
    "* Static methods, as well as Class methods, don’t require an instance to be called.\n",
    "* Static methods doesn’t need  self or cls as the first argument since it’s not bound to an instance or class.\n",
    "* Static methods are normal functions, but within a class.\n",
    "* Static methods are defined with the keyword @staticmethod above the function/method.\n",
    "* Static methods are usually used to work on Class Attributes."
   ]
  },
  {
   "cell_type": "code",
   "execution_count": 11,
   "metadata": {
    "ExecuteTime": {
     "end_time": "2022-05-19T09:35:38.613746Z",
     "start_time": "2022-05-19T09:35:38.602812Z"
    }
   },
   "outputs": [
    {
     "name": "stdout",
     "output_type": "stream",
     "text": [
      "0\n",
      "An instance is created!\n",
      "An instance is created!\n",
      "An instance is created!\n",
      "The total number of instances are  3\n",
      "3\n"
     ]
    }
   ],
   "source": [
    "class MyClass(object):\n",
    "    # A class attribute\n",
    "    count = 0\n",
    "\n",
    "    def __init__(self, name):\n",
    "        print(\"An instance is created!\")\n",
    "        self.name = name\n",
    "        MyClass.count += 1\n",
    "\n",
    "    # Our class method\n",
    "    @staticmethod\n",
    "    def status():\n",
    "        print(\"The total number of instances are \", MyClass.count)\n",
    "\n",
    "\n",
    "print(MyClass.count)\n",
    "\n",
    "my_func_1 = MyClass(\"MyClass 1\")\n",
    "my_func_2 = MyClass(\"MyClass 2\")\n",
    "my_func_3 = MyClass(\"MyClass 3\")\n",
    "\n",
    "MyClass.status()\n",
    "print(MyClass.count)"
   ]
  },
  {
   "cell_type": "markdown",
   "metadata": {},
   "source": [
    "# 30-magicmethods-1.py\n",
    "\n",
    " In the backend, python is mostly objects and method calls on objects.\n",
    "\n",
    " Here we see an example, where the `print()` function is just a call to the magic method `__repr__()`."
   ]
  },
  {
   "cell_type": "code",
   "execution_count": 12,
   "metadata": {
    "ExecuteTime": {
     "end_time": "2022-05-19T09:36:24.031048Z",
     "start_time": "2022-05-19T09:36:24.017086Z"
    }
   },
   "outputs": [
    {
     "name": "stdout",
     "output_type": "stream",
     "text": [
      "['a', 'b', 'c']\n"
     ]
    }
   ],
   "source": [
    "class PrintList(object):\n",
    "    def __init__(self, my_list):\n",
    "        self.mylist = my_list\n",
    "\n",
    "    def __repr__(self):\n",
    "        return str(self.mylist)\n",
    "\n",
    "\n",
    "printlist = PrintList([\"a\", \"b\", \"c\"])\n",
    "print(printlist.__repr__())"
   ]
  },
  {
   "cell_type": "markdown",
   "metadata": {},
   "source": [
    "# 31-magicmethods-2.py\n",
    "\n",
    " In the backend, python is mostly objects and method calls on objects.\n",
    "\n",
    "http://www.rafekettler.com/magicmethods.html"
   ]
  },
  {
   "cell_type": "code",
   "execution_count": 13,
   "metadata": {
    "ExecuteTime": {
     "end_time": "2022-05-19T09:37:13.125289Z",
     "start_time": "2022-05-19T09:37:13.120550Z"
    }
   },
   "outputs": [
    {
     "name": "stdout",
     "output_type": "stream",
     "text": [
      "\n",
      "Calling the `+` builtin with both lists\n",
      "['a', 'b', 'c', 'd', 'e', 'f']\n",
      "\n",
      "Calling `__add__()` with both lists\n",
      "['a', 'b', 'c', 'd', 'e', 'f']\n"
     ]
    }
   ],
   "source": [
    "my_list_1 = [\"a\", \"b\", \"c\"]\n",
    "\n",
    "my_list_2 = [\"d\", \"e\", \"f\"]\n",
    "\n",
    "print(\"\\nCalling the `+` builtin with both lists\")\n",
    "print(my_list_1 + my_list_2)\n",
    "\n",
    "print(\"\\nCalling `__add__()` with both lists\")\n",
    "print(my_list_1.__add__(my_list_2))"
   ]
  },
  {
   "cell_type": "code",
   "execution_count": null,
   "metadata": {},
   "outputs": [],
   "source": []
  }
 ],
 "metadata": {
  "kernelspec": {
   "display_name": "Python 3 (ipykernel)",
   "language": "python",
   "name": "python3"
  },
  "language_info": {
   "codemirror_mode": {
    "name": "ipython",
    "version": 3
   },
   "file_extension": ".py",
   "mimetype": "text/x-python",
   "name": "python",
   "nbconvert_exporter": "python",
   "pygments_lexer": "ipython3",
   "version": "3.9.12"
  },
  "toc": {
   "base_numbering": 1,
   "nav_menu": {},
   "number_sections": true,
   "sideBar": true,
   "skip_h1_title": false,
   "title_cell": "Table of Contents",
   "title_sidebar": "Contents",
   "toc_cell": false,
   "toc_position": {},
   "toc_section_display": true,
   "toc_window_display": true
  }
 },
 "nbformat": 4,
 "nbformat_minor": 2
}
