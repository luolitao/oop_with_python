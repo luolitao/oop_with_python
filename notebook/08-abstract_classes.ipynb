{
 "cells": [
  {
   "cell_type": "markdown",
   "metadata": {},
   "source": [
    "# 34-abstractclasses-1.py\n",
    "\n",
    " This code snippet talks about Abstract Base Classes (abc).\n",
    "\n",
    " The `abc` module provides features to create Abstract Base Classes.\n",
    "\n",
    " To create an Abstract Base Class, set the `__metaclass__` magic method to `abc.ABCMeta`. This will mark the respective class as an Abstract Base Class.\n",
    "\n",
    " Now, in order to specify the methods which are to be enforced on the child classes, ie.. to create Abstract Methods, we use the decorator @abc.abstractmethod on the methods we need.\n",
    "\n",
    " The child class which inherits from an Abstract Base Class can implement methods of their own, but *should always* implement the methods defined in the parent ABC Class."
   ]
  },
  {
   "cell_type": "code",
   "execution_count": 2,
   "metadata": {
    "ExecuteTime": {
     "end_time": "2022-05-19T09:45:31.345155Z",
     "start_time": "2022-05-19T09:45:31.335182Z"
    }
   },
   "outputs": [],
   "source": [
    "import abc\n",
    "\n",
    "\n",
    "class My_ABC_Class(object):\n",
    "    __metaclass__ = abc.ABCMeta\n",
    "\n",
    "    @abc.abstractmethod\n",
    "    def set_val(self, val):\n",
    "        return\n",
    "\n",
    "    @abc.abstractmethod\n",
    "    def get_val(self):\n",
    "        return\n",
    "\n",
    "\n",
    "# Abstract Base Class defined above ^^^"
   ]
  },
  {
   "cell_type": "code",
   "execution_count": 3,
   "metadata": {
    "ExecuteTime": {
     "end_time": "2022-05-19T09:45:44.176854Z",
     "start_time": "2022-05-19T09:45:44.157904Z"
    }
   },
   "outputs": [
    {
     "name": "stdout",
     "output_type": "stream",
     "text": [
      "\n",
      "Calling the get_val() method\n",
      "I'm part of the Abstract Methods defined in My_ABC_Class()\n",
      "10\n",
      "\n",
      "Calling the hello() method\n",
      "I'm *not* part of the Abstract Methods defined in My_ABC_Class()\n"
     ]
    }
   ],
   "source": [
    "# Custom class inheriting from the above Abstract Base Class, below\n",
    "class MyClass(My_ABC_Class):\n",
    "    def set_val(self, input):\n",
    "        self.val = input\n",
    "\n",
    "    def get_val(self):\n",
    "        print(\"\\nCalling the get_val() method\")\n",
    "        print(\"I'm part of the Abstract Methods defined in My_ABC_Class()\")\n",
    "        return self.val\n",
    "\n",
    "    def hello(self):\n",
    "        print(\"\\nCalling the hello() method\")\n",
    "        print(\n",
    "            \"I'm *not* part of the Abstract Methods defined in My_ABC_Class()\")\n",
    "\n",
    "\n",
    "my_class = MyClass()\n",
    "\n",
    "my_class.set_val(10)\n",
    "print(my_class.get_val())\n",
    "my_class.hello()"
   ]
  },
  {
   "cell_type": "markdown",
   "metadata": {},
   "source": [
    "# 34-abstractclasses-1.py\n",
    "\n",
    " This code snippet talks about Abstract Base Classes (abc).\n",
    "\n",
    " The `abc` module provides features to create Abstract Base Classes.\n",
    "\n",
    " To create an Abstract Base Class, set the `__metaclass__` magic method to `abc.ABCMeta`. This will mark the respective class as an Abstract Base Class.\n",
    "\n",
    " Now, in order to specify the methods which are to be enforced on the child classes, ie.. to create Abstract Methods, we use the decorator @abc.abstractmethod on the methods we need.\n",
    "\n",
    " The child class which inherits from an Abstract Base Class can implement\n",
    " methods of their own, but *should always* implement the methods defined in\n",
    " the parent ABC Class.\n",
    "\n",
    " NOTE: This code will error out. This is an example on what\n",
    " happens when a child class doesn't implement the abstract methods\n",
    " defined in the Parent Class."
   ]
  },
  {
   "cell_type": "code",
   "execution_count": 4,
   "metadata": {
    "ExecuteTime": {
     "end_time": "2022-05-19T09:46:57.509245Z",
     "start_time": "2022-05-19T09:46:57.500269Z"
    }
   },
   "outputs": [],
   "source": [
    "import abc\n",
    "\n",
    "\n",
    "class My_ABC_Class(object):\n",
    "    __metaclass__ = abc.ABCMeta\n",
    "\n",
    "    @abc.abstractmethod\n",
    "    def set_val(self, val):\n",
    "        return\n",
    "\n",
    "    @abc.abstractmethod\n",
    "    def get_val(self):\n",
    "        return\n",
    "# Abstract Base Class defined above ^^^"
   ]
  },
  {
   "cell_type": "code",
   "execution_count": 5,
   "metadata": {
    "ExecuteTime": {
     "end_time": "2022-05-19T09:47:06.295693Z",
     "start_time": "2022-05-19T09:47:06.290707Z"
    }
   },
   "outputs": [
    {
     "name": "stdout",
     "output_type": "stream",
     "text": [
      "None\n",
      "\n",
      "Calling the hello() method\n",
      "I'm *not* part of the Abstract Methods defined in My_ABC_Class()\n"
     ]
    }
   ],
   "source": [
    "# Custom class inheriting from the above Abstract Base Class, below\n",
    "class MyClass(My_ABC_Class):\n",
    "    def set_val(self, input):\n",
    "        self.val = input\n",
    "\n",
    "    def hello(self):\n",
    "        print(\"\\nCalling the hello() method\")\n",
    "        print(\"I'm *not* part of the Abstract Methods defined in My_ABC_Class()\")\n",
    "\n",
    "\n",
    "my_class = MyClass()\n",
    "\n",
    "my_class.set_val(10)\n",
    "print(my_class.get_val())\n",
    "my_class.hello()"
   ]
  },
  {
   "cell_type": "markdown",
   "metadata": {},
   "source": [
    "# 34-abstractclasses-1.py\n",
    "\n",
    " This code snippet talks about Abstract Base Classes (abc).\n",
    "\n",
    " The `abc` module provides features to create\n",
    " Abstract Base Classes.\n",
    "\n",
    " To create an Abstract Base Class, set the `__metaclass__` magic method\n",
    " to `abc.ABCMeta`. This will mark the respective class as an Abstract\n",
    " Base Class.\n",
    "\n",
    " Now, in order to specify the methods which are to be enforced on the\n",
    " child classes, ie.. to create Abstract Methods, we use the decorator\n",
    " @abc.abstractmethod on the methods we need.\n",
    "\n",
    " The child class which inherits from an Abstract Base Class can implement\n",
    " methods of their own, but *should always* implement the methods defined in\n",
    " the parent ABC Class.\n",
    "\n",
    " NOTE: This code will error out. This is an example on what\n",
    " happens when a child class doesn't implement the abstract methods\n",
    " defined in the Parent Class."
   ]
  },
  {
   "cell_type": "code",
   "execution_count": 6,
   "metadata": {
    "ExecuteTime": {
     "end_time": "2022-05-19T09:48:00.128934Z",
     "start_time": "2022-05-19T09:48:00.116978Z"
    }
   },
   "outputs": [],
   "source": [
    "import abc\n",
    "\n",
    "\n",
    "class My_ABC_Class(object):\n",
    "    __metaclass__ = abc.ABCMeta\n",
    "\n",
    "    @abc.abstractmethod\n",
    "    def set_val(self, val):\n",
    "        return\n",
    "\n",
    "    @abc.abstractmethod\n",
    "    def get_val(self):\n",
    "        return\n",
    "\n",
    "\n",
    "# Abstract Base Class defined above ^^^"
   ]
  },
  {
   "cell_type": "code",
   "execution_count": 7,
   "metadata": {
    "ExecuteTime": {
     "end_time": "2022-05-19T09:48:03.712551Z",
     "start_time": "2022-05-19T09:48:03.548992Z"
    }
   },
   "outputs": [
    {
     "name": "stdout",
     "output_type": "stream",
     "text": [
      "None\n"
     ]
    },
    {
     "ename": "AttributeError",
     "evalue": "'My_ABC_Class' object has no attribute 'hello'",
     "output_type": "error",
     "traceback": [
      "\u001b[1;31m---------------------------------------------------------------------------\u001b[0m",
      "\u001b[1;31mAttributeError\u001b[0m                            Traceback (most recent call last)",
      "\u001b[1;32m~\\AppData\\Local\\Temp\\ipykernel_16900\\2003644701.py\u001b[0m in \u001b[0;36m<cell line: 15>\u001b[1;34m()\u001b[0m\n\u001b[0;32m     13\u001b[0m \u001b[0mmy_class\u001b[0m\u001b[1;33m.\u001b[0m\u001b[0mset_val\u001b[0m\u001b[1;33m(\u001b[0m\u001b[1;36m10\u001b[0m\u001b[1;33m)\u001b[0m\u001b[1;33m\u001b[0m\u001b[1;33m\u001b[0m\u001b[0m\n\u001b[0;32m     14\u001b[0m \u001b[0mprint\u001b[0m\u001b[1;33m(\u001b[0m\u001b[0mmy_class\u001b[0m\u001b[1;33m.\u001b[0m\u001b[0mget_val\u001b[0m\u001b[1;33m(\u001b[0m\u001b[1;33m)\u001b[0m\u001b[1;33m)\u001b[0m\u001b[1;33m\u001b[0m\u001b[1;33m\u001b[0m\u001b[0m\n\u001b[1;32m---> 15\u001b[1;33m \u001b[0mmy_class\u001b[0m\u001b[1;33m.\u001b[0m\u001b[0mhello\u001b[0m\u001b[1;33m(\u001b[0m\u001b[1;33m)\u001b[0m\u001b[1;33m\u001b[0m\u001b[1;33m\u001b[0m\u001b[0m\n\u001b[0m",
      "\u001b[1;31mAttributeError\u001b[0m: 'My_ABC_Class' object has no attribute 'hello'"
     ]
    }
   ],
   "source": [
    "# Custom class inheriting from the above Abstract Base Class, below\n",
    "class MyClass(My_ABC_Class):\n",
    "    def set_val(self, input):\n",
    "        self.val = input\n",
    "\n",
    "    def hello(self):\n",
    "        print(\"\\nCalling the hello() method\")\n",
    "        print(\n",
    "            \"I'm *not* part of the Abstract Methods defined in My_ABC_Class()\")\n",
    "\n",
    "\n",
    "my_class = My_ABC_Class()\n",
    "\n",
    "my_class.set_val(10)\n",
    "print(my_class.get_val())\n",
    "my_class.hello()"
   ]
  },
  {
   "cell_type": "code",
   "execution_count": null,
   "metadata": {},
   "outputs": [],
   "source": []
  }
 ],
 "metadata": {
  "kernelspec": {
   "display_name": "Python 3 (ipykernel)",
   "language": "python",
   "name": "python3"
  },
  "language_info": {
   "codemirror_mode": {
    "name": "ipython",
    "version": 3
   },
   "file_extension": ".py",
   "mimetype": "text/x-python",
   "name": "python",
   "nbconvert_exporter": "python",
   "pygments_lexer": "ipython3",
   "version": "3.9.12"
  },
  "toc": {
   "base_numbering": 1,
   "nav_menu": {},
   "number_sections": true,
   "sideBar": true,
   "skip_h1_title": false,
   "title_cell": "Table of Contents",
   "title_sidebar": "Contents",
   "toc_cell": false,
   "toc_position": {},
   "toc_section_display": true,
   "toc_window_display": false
  }
 },
 "nbformat": 4,
 "nbformat_minor": 2
}
