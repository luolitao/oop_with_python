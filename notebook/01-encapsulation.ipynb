{
 "cells": [
  {
   "cell_type": "markdown",
   "metadata": {},
   "source": [
    "# encapsulation-1.py\n",
    "\n",
    " Encapsulation means to preserve data in classes using methods\n",
    " Here, we're setting the 'val' attribute through 'set_val()'.\n",
    " See the next example, `encapsulation-2.py` for more info\n",
    "\n",
    " In this example, we have two methods, `set_val` and `get_val`.\n",
    " The first one sets the `val` value while the second one\n",
    " prints/returns the value."
   ]
  },
  {
   "cell_type": "code",
   "execution_count": 31,
   "metadata": {
    "ExecuteTime": {
     "end_time": "2022-05-19T10:03:24.645656Z",
     "start_time": "2022-05-19T10:03:24.632691Z"
    }
   },
   "outputs": [],
   "source": [
    "class MyClass(object):\n",
    "    def set_val(self, val):\n",
    "        self.value = val\n",
    "\n",
    "    def get_val(self):\n",
    "        print(self.value)\n",
    "        return self.value"
   ]
  },
  {
   "cell_type": "code",
   "execution_count": 32,
   "metadata": {
    "ExecuteTime": {
     "end_time": "2022-05-19T10:03:33.995206Z",
     "start_time": "2022-05-19T10:03:33.979491Z"
    }
   },
   "outputs": [
    {
     "name": "stdout",
     "output_type": "stream",
     "text": [
      "10\n",
      "100\n"
     ]
    },
    {
     "data": {
      "text/plain": [
       "100"
      ]
     },
     "execution_count": 32,
     "metadata": {},
     "output_type": "execute_result"
    }
   ],
   "source": [
    "a = MyClass()\n",
    "b = MyClass()\n",
    "\n",
    "a.set_val(10)\n",
    "b.set_val(100)\n",
    "a.get_val()\n",
    "\n",
    "b.get_val()"
   ]
  },
  {
   "cell_type": "markdown",
   "metadata": {
    "ExecuteTime": {
     "end_time": "2022-05-19T09:56:54.471138Z",
     "start_time": "2022-05-19T09:56:54.463159Z"
    }
   },
   "source": [
    "\n",
    " NOTE: If you run this code, it won't print anything to the screen.\n",
    " This is because, even if we're calling `a.get_val()` and `b.get_val()`,\n",
    " the `get_val()` function doesn't contain a `print()` function.\n",
    " If we want to get the output printed to screen, we should do any of\n",
    " the following:\n",
    "\n",
    " a) Either replace `return self.value` with `print(self.value)`\n",
    " or add a print statement **above** `return` as `print(self.value)`.\n",
    "\n",
    " b) Remove `return(self.value)` and replace it with `print(self.value)`"
   ]
  },
  {
   "cell_type": "markdown",
   "metadata": {
    "ExecuteTime": {
     "end_time": "2022-05-19T08:39:07.061607Z",
     "start_time": "2022-05-19T08:39:07.053629Z"
    }
   },
   "source": [
    "# encapsulation-2.py\n",
    "\n",
    " This example builds on top of `encapsulation-1.py`.\n",
    " Here we see how we can set values in methods without\n",
    " going through the method itself, ie.. how we can break\n",
    " encapsulation.\n",
    "\n",
    " NOTE: BREAKING ENCAPSULATION IS BAD."
   ]
  },
  {
   "cell_type": "code",
   "execution_count": 12,
   "metadata": {
    "ExecuteTime": {
     "end_time": "2022-05-19T09:58:47.661826Z",
     "start_time": "2022-05-19T09:58:47.656807Z"
    }
   },
   "outputs": [],
   "source": [
    "class MyClass(object):\n",
    "    def set_val(self, val):\n",
    "        self.value = val\n",
    "\n",
    "    def get_val(self):\n",
    "        print(self.value)"
   ]
  },
  {
   "cell_type": "code",
   "execution_count": 13,
   "metadata": {
    "ExecuteTime": {
     "end_time": "2022-05-19T09:59:00.299325Z",
     "start_time": "2022-05-19T09:59:00.290350Z"
    }
   },
   "outputs": [
    {
     "name": "stdout",
     "output_type": "stream",
     "text": [
      "100\n",
      "1000\n"
     ]
    }
   ],
   "source": [
    "a = MyClass()\n",
    "b = MyClass()\n",
    "\n",
    "a.set_val(10)\n",
    "b.set_val(1000)\n",
    "a.value = 100  # <== Overriding `set_value` directly\n",
    "# <== ie..  Breaking encapsulation\n",
    "\n",
    "a.get_val()\n",
    "b.get_val()"
   ]
  },
  {
   "cell_type": "markdown",
   "metadata": {
    "ExecuteTime": {
     "end_time": "2022-05-19T09:57:33.869173Z",
     "start_time": "2022-05-19T09:57:33.861194Z"
    }
   },
   "source": [
    "# 03-encapsulation-3.py\n",
    "\n",
    " Here we look at another example, where we have three methods\n",
    " set_val(), get_val(), and increment_val().\n",
    "\n",
    " set_val() helps to set a value, get_val() prints the value,\n",
    " and increment_val() increments the set value by 1.\n",
    "\n",
    " We can still break encapsulation here by calling 'self.value'\n",
    " directly in an instance, which is **BAD**.\n",
    "\n",
    " set_val() forces us to input an integer, ie.. what the code wants\n",
    " to work properly. Here, it's possible to break the encapsulation by\n",
    " calling 'self.val` directly, which will cause unexpected results later.\n",
    " In this example, the code is written to enforce an intger as input, if we\n",
    " don't break encapsulation and go through the gateway 'set_val()'"
   ]
  },
  {
   "cell_type": "code",
   "execution_count": 27,
   "metadata": {
    "ExecuteTime": {
     "end_time": "2022-05-19T10:03:08.607606Z",
     "start_time": "2022-05-19T10:03:08.594679Z"
    }
   },
   "outputs": [],
   "source": [
    "class MyInteger(object):\n",
    "    def set_val(self, val):\n",
    "        try:\n",
    "            val = int(val)\n",
    "        except ValueError:\n",
    "            return\n",
    "        self.val = val\n",
    "\n",
    "    def get_val(self):\n",
    "        print(self.val)\n",
    "\n",
    "    def increment_val(self):\n",
    "        self.val = self.val + 1\n",
    "        print(self.val)"
   ]
  },
  {
   "cell_type": "code",
   "execution_count": 28,
   "metadata": {
    "ExecuteTime": {
     "end_time": "2022-05-19T10:03:09.505808Z",
     "start_time": "2022-05-19T10:03:09.491846Z"
    }
   },
   "outputs": [
    {
     "name": "stdout",
     "output_type": "stream",
     "text": [
      "10\n",
      "11\n",
      "\n",
      "\n"
     ]
    }
   ],
   "source": [
    "a = MyInteger()\n",
    "a.set_val(10)\n",
    "a.get_val()\n",
    "a.increment_val()\n",
    "print(\"\\n\")"
   ]
  },
  {
   "cell_type": "code",
   "execution_count": 29,
   "metadata": {
    "ExecuteTime": {
     "end_time": "2022-05-19T10:03:10.302636Z",
     "start_time": "2022-05-19T10:03:10.296607Z"
    }
   },
   "outputs": [
    {
     "name": "stdout",
     "output_type": "stream",
     "text": [
      "15\n",
      "16\n",
      "\n",
      "\n"
     ]
    }
   ],
   "source": [
    "# Trying to break encapsulation in a new instance with an int\n",
    "c = MyInteger()\n",
    "c.val = 15\n",
    "c.get_val()\n",
    "c.increment_val()\n",
    "print(\"\\n\")"
   ]
  },
  {
   "cell_type": "code",
   "execution_count": 30,
   "metadata": {
    "ExecuteTime": {
     "end_time": "2022-05-19T10:03:11.178113Z",
     "start_time": "2022-05-19T10:03:11.149670Z"
    }
   },
   "outputs": [
    {
     "name": "stdout",
     "output_type": "stream",
     "text": [
      "MyString\n"
     ]
    },
    {
     "ename": "TypeError",
     "evalue": "can only concatenate str (not \"int\") to str",
     "output_type": "error",
     "traceback": [
      "\u001b[1;31m---------------------------------------------------------------------------\u001b[0m",
      "\u001b[1;31mTypeError\u001b[0m                                 Traceback (most recent call last)",
      "\u001b[1;32m~\\AppData\\Local\\Temp\\ipykernel_13204\\3991758289.py\u001b[0m in \u001b[0;36m<cell line: 5>\u001b[1;34m()\u001b[0m\n\u001b[0;32m      3\u001b[0m \u001b[0mb\u001b[0m\u001b[1;33m.\u001b[0m\u001b[0mval\u001b[0m \u001b[1;33m=\u001b[0m \u001b[1;34m\"MyString\"\u001b[0m  \u001b[1;31m# <== Breaking encapsulation, works fine\u001b[0m\u001b[1;33m\u001b[0m\u001b[1;33m\u001b[0m\u001b[0m\n\u001b[0;32m      4\u001b[0m \u001b[0mb\u001b[0m\u001b[1;33m.\u001b[0m\u001b[0mget_val\u001b[0m\u001b[1;33m(\u001b[0m\u001b[1;33m)\u001b[0m  \u001b[1;31m# <== Prints the val set by breaking encap\u001b[0m\u001b[1;33m\u001b[0m\u001b[1;33m\u001b[0m\u001b[0m\n\u001b[1;32m----> 5\u001b[1;33m \u001b[0mb\u001b[0m\u001b[1;33m.\u001b[0m\u001b[0mincrement_val\u001b[0m\u001b[1;33m(\u001b[0m\u001b[1;33m)\u001b[0m  \u001b[1;31m# This will fail, since str + int wont work\u001b[0m\u001b[1;33m\u001b[0m\u001b[1;33m\u001b[0m\u001b[0m\n\u001b[0m\u001b[0;32m      6\u001b[0m \u001b[0mprint\u001b[0m\u001b[1;33m(\u001b[0m\u001b[1;34m\"\\n\"\u001b[0m\u001b[1;33m)\u001b[0m\u001b[1;33m\u001b[0m\u001b[1;33m\u001b[0m\u001b[0m\n",
      "\u001b[1;32m~\\AppData\\Local\\Temp\\ipykernel_13204\\308524646.py\u001b[0m in \u001b[0;36mincrement_val\u001b[1;34m(self)\u001b[0m\n\u001b[0;32m     11\u001b[0m \u001b[1;33m\u001b[0m\u001b[0m\n\u001b[0;32m     12\u001b[0m     \u001b[1;32mdef\u001b[0m \u001b[0mincrement_val\u001b[0m\u001b[1;33m(\u001b[0m\u001b[0mself\u001b[0m\u001b[1;33m)\u001b[0m\u001b[1;33m:\u001b[0m\u001b[1;33m\u001b[0m\u001b[1;33m\u001b[0m\u001b[0m\n\u001b[1;32m---> 13\u001b[1;33m         \u001b[0mself\u001b[0m\u001b[1;33m.\u001b[0m\u001b[0mval\u001b[0m \u001b[1;33m=\u001b[0m \u001b[0mself\u001b[0m\u001b[1;33m.\u001b[0m\u001b[0mval\u001b[0m \u001b[1;33m+\u001b[0m \u001b[1;36m1\u001b[0m\u001b[1;33m\u001b[0m\u001b[1;33m\u001b[0m\u001b[0m\n\u001b[0m\u001b[0;32m     14\u001b[0m         \u001b[0mprint\u001b[0m\u001b[1;33m(\u001b[0m\u001b[0mself\u001b[0m\u001b[1;33m.\u001b[0m\u001b[0mval\u001b[0m\u001b[1;33m)\u001b[0m\u001b[1;33m\u001b[0m\u001b[1;33m\u001b[0m\u001b[0m\n",
      "\u001b[1;31mTypeError\u001b[0m: can only concatenate str (not \"int\") to str"
     ]
    }
   ],
   "source": [
    "# Trying to break encapsulation in a new instance with a str\n",
    "b = MyInteger()\n",
    "b.val = \"MyString\"  # <== Breaking encapsulation, works fine\n",
    "b.get_val()  # <== Prints the val set by breaking encap\n",
    "b.increment_val()  # This will fail, since str + int wont work\n",
    "print(\"\\n\")"
   ]
  },
  {
   "cell_type": "code",
   "execution_count": null,
   "metadata": {},
   "outputs": [],
   "source": []
  }
 ],
 "metadata": {
  "kernelspec": {
   "display_name": "Python 3 (ipykernel)",
   "language": "python",
   "name": "python3"
  },
  "language_info": {
   "codemirror_mode": {
    "name": "ipython",
    "version": 3
   },
   "file_extension": ".py",
   "mimetype": "text/x-python",
   "name": "python",
   "nbconvert_exporter": "python",
   "pygments_lexer": "ipython3",
   "version": "3.9.12"
  },
  "toc": {
   "base_numbering": 1,
   "nav_menu": {},
   "number_sections": true,
   "sideBar": true,
   "skip_h1_title": false,
   "title_cell": "Table of Contents",
   "title_sidebar": "Contents",
   "toc_cell": false,
   "toc_position": {},
   "toc_section_display": true,
   "toc_window_display": false
  }
 },
 "nbformat": 4,
 "nbformat_minor": 2
}
