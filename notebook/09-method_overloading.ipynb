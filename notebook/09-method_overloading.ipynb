{
 "cells": [
  {
   "cell_type": "markdown",
   "metadata": {},
   "source": [
    "# 37-method-overloading-1.py\n",
    "\n",
    " Reference: O'Reilly Learning Path:\n",
    " http://shop.oreilly.com/product/0636920040057.do\n",
    " Chapter 24 : Method Overloading - Extending and Providing\n",
    "\n",
    " This code is an example on how we can extend a method inherited by\n",
    " a child class from the Parent class.\n",
    "\n",
    " 1. We have defined `MyClass()` as an abstract class,\n",
    " and it has three methods, my_set_val(), my_get_val(), and print_doc().\n",
    " 2. MyChildClass() inherits from MyClass()\n",
    " 3. MyChildClass() extends the parent's my_set_val() method\n",
    " by it's own my_set_val() method. It checks for the input,\n",
    " checks if it's an integer, and then calls the my_set_val()\n",
    " method in the parent.\n",
    "\n",
    " 4. The print_doc() method in the Parent is an abstract method\n",
    " and hence should be implemented in the child class MyChildClass()\n"
   ]
  },
  {
   "cell_type": "code",
   "execution_count": 1,
   "metadata": {
    "ExecuteTime": {
     "end_time": "2022-05-19T09:50:24.291598Z",
     "start_time": "2022-05-19T09:50:24.273646Z"
    }
   },
   "outputs": [
    {
     "name": "stdout",
     "output_type": "stream",
     "text": [
      "<__main__.MyChildClass object at 0x0000019D182D5FA0>\n",
      "Documentation for MyChild Class\n",
      "None\n"
     ]
    }
   ],
   "source": [
    "import abc\n",
    "\n",
    "\n",
    "class MyClass(object):\n",
    "\n",
    "    __metaclass__ = abc.ABCMeta\n",
    "\n",
    "    def my_set_val(self, value):\n",
    "        self.value = value\n",
    "\n",
    "    def my_get_val(self):\n",
    "        return self.value\n",
    "\n",
    "    @abc.abstractmethod\n",
    "    def print_doc(self):\n",
    "        return\n",
    "\n",
    "\n",
    "class MyChildClass(MyClass):\n",
    "    def my_set_val(self, value):\n",
    "        if not isinstance(value, int):\n",
    "            value = 0\n",
    "        super(MyChildClass, self).my_set_val(self)\n",
    "\n",
    "    def print_doc(self):\n",
    "        print(\"Documentation for MyChild Class\")\n",
    "\n",
    "\n",
    "my_instance = MyChildClass()\n",
    "my_instance.my_set_val(100)\n",
    "print(my_instance.my_get_val())\n",
    "print(my_instance.print_doc())"
   ]
  },
  {
   "cell_type": "markdown",
   "metadata": {},
   "source": [
    "# 37-method-overloading-1.py\n",
    "\n",
    " Reference: O'Reilly Learning Path:\n",
    " http://shop.oreilly.com/product/0636920040057.do\n",
    " Chapter 24 : Method Overloading - Extending and Providing"
   ]
  },
  {
   "cell_type": "code",
   "execution_count": 2,
   "metadata": {
    "ExecuteTime": {
     "end_time": "2022-05-19T09:50:58.556416Z",
     "start_time": "2022-05-19T09:50:58.549435Z"
    }
   },
   "outputs": [],
   "source": [
    "import abc\n",
    "\n",
    "\n",
    "class GetSetParent(object):\n",
    "    __metaclass__ = abc.ABCMeta\n",
    "\n",
    "    def __init__(self, value):\n",
    "        self.val = 0\n",
    "\n",
    "    def set_val(self, value):\n",
    "        self.val = value\n",
    "\n",
    "    def get_val(self):\n",
    "        return self.val\n",
    "\n",
    "    @abc.abstractmethod\n",
    "    def showdoc(self):\n",
    "        return\n",
    "\n",
    "\n",
    "class GetSetList(GetSetParent):\n",
    "    def __init__(self, value=0):\n",
    "        self.vallist = [value]\n",
    "\n",
    "    def get_val(self):\n",
    "        return self.vallist[-1]\n",
    "\n",
    "    def get_vals(self):\n",
    "        return self.vallist\n",
    "\n",
    "    def set_val(self, value):\n",
    "        self.vallist.append(value)\n",
    "\n",
    "    def showdoc(self):\n",
    "        print(\"GetSetList object, len {0}, store history of values set\".format(\n",
    "            len(self.vallist)))"
   ]
  },
  {
   "cell_type": "markdown",
   "metadata": {},
   "source": [
    "# 39-method-overloading-3.py\n",
    "\n",
    " We've seen that inherited methods can be overloaded.\n",
    " This is possible using in-built functions as well.\n",
    "\n",
    " Let's see how we can overload methods from the `list` module."
   ]
  },
  {
   "cell_type": "code",
   "execution_count": 3,
   "metadata": {
    "ExecuteTime": {
     "end_time": "2022-05-19T09:52:22.344909Z",
     "start_time": "2022-05-19T09:52:22.324962Z"
    }
   },
   "outputs": [],
   "source": [
    "class MyList(list):\n",
    "    def __getitem__(self, index):\n",
    "        if index == 0:\n",
    "            raise IndexError\n",
    "        if index > 0:\n",
    "            index -= 1\n",
    "        return list.__getitem__(self, index)\n",
    "\n",
    "    def __setitem__(self, index, value):\n",
    "        if index == 0:\n",
    "            raise IndexError\n",
    "        if index > 0:\n",
    "            index -= 1\n",
    "        list.__setitem__(self, index, value)"
   ]
  },
  {
   "cell_type": "code",
   "execution_count": 4,
   "metadata": {
    "ExecuteTime": {
     "end_time": "2022-05-19T09:52:27.624536Z",
     "start_time": "2022-05-19T09:52:27.604590Z"
    }
   },
   "outputs": [
    {
     "name": "stdout",
     "output_type": "stream",
     "text": [
      "['a', 'b', 'c']\n",
      "----------\n",
      "['a', 'b', 'c', 'd']\n",
      "----------\n",
      "['a', 'b', 'c', 'e']\n",
      "----------\n",
      "a\n",
      "a\n",
      "----------\n",
      "e\n",
      "e\n"
     ]
    }
   ],
   "source": [
    "x = MyList([\"a\", \"b\", \"c\"])\n",
    "print(x)\n",
    "print(\"-\" * 10)\n",
    "\n",
    "x.append(\"d\")\n",
    "print(x)\n",
    "print(\"-\" * 10)\n",
    "\n",
    "x.__setitem__(4, \"e\")\n",
    "print(x)\n",
    "print(\"-\" * 10)\n",
    "\n",
    "print(x[1])\n",
    "print(x.__getitem__(1))\n",
    "print(\"-\" * 10)\n",
    "\n",
    "print(x[4])\n",
    "print(x.__getitem__(4))"
   ]
  },
  {
   "cell_type": "code",
   "execution_count": null,
   "metadata": {},
   "outputs": [],
   "source": []
  }
 ],
 "metadata": {
  "kernelspec": {
   "display_name": "Python 3 (ipykernel)",
   "language": "python",
   "name": "python3"
  },
  "language_info": {
   "codemirror_mode": {
    "name": "ipython",
    "version": 3
   },
   "file_extension": ".py",
   "mimetype": "text/x-python",
   "name": "python",
   "nbconvert_exporter": "python",
   "pygments_lexer": "ipython3",
   "version": "3.9.12"
  },
  "toc": {
   "base_numbering": 1,
   "nav_menu": {},
   "number_sections": true,
   "sideBar": true,
   "skip_h1_title": false,
   "title_cell": "Table of Contents",
   "title_sidebar": "Contents",
   "toc_cell": false,
   "toc_position": {},
   "toc_section_display": true,
   "toc_window_display": true
  }
 },
 "nbformat": 4,
 "nbformat_minor": 2
}
